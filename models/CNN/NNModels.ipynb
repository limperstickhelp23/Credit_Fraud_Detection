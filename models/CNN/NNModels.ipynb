{
 "cells": [
  {
   "cell_type": "code",
   "execution_count": 1,
   "metadata": {},
   "outputs": [
    {
     "name": "stderr",
     "output_type": "stream",
     "text": [
      "/Users/varunchowdary/opt/anaconda3/lib/python3.9/site-packages/pandas/core/computation/expressions.py:21: UserWarning: Pandas requires version '2.8.4' or newer of 'numexpr' (version '2.8.1' currently installed).\n",
      "  from pandas.core.computation.check import NUMEXPR_INSTALLED\n",
      "/Users/varunchowdary/opt/anaconda3/lib/python3.9/site-packages/pandas/core/arrays/masked.py:60: UserWarning: Pandas requires version '1.3.6' or newer of 'bottleneck' (version '1.3.4' currently installed).\n",
      "  from pandas.core import (\n"
     ]
    }
   ],
   "source": [
    "import pandas as pd\n",
    "import numpy as np\n",
    "import seaborn as sns\n",
    "from sklearn.model_selection import train_test_split\n",
    "import category_encoders as ce\n",
    "from imblearn.over_sampling import RandomOverSampler, SMOTE, BorderlineSMOTE, SVMSMOTE, ADASYN\n"
   ]
  },
  {
   "cell_type": "code",
   "execution_count": 2,
   "metadata": {},
   "outputs": [],
   "source": [
    "data = pd.read_csv('/Users/varunchowdary/Desktop/Credit_Card_Detection/Credit_Fraud_Detection/DataSets/fraud_test.csv')"
   ]
  },
  {
   "cell_type": "code",
   "execution_count": 3,
   "metadata": {},
   "outputs": [
    {
     "name": "stderr",
     "output_type": "stream",
     "text": [
      "/var/folders/v5/dzlv9h1j1m35th_vy031s8d40000gn/T/ipykernel_12611/1512199050.py:11: FutureWarning: Downcasting behavior in `replace` is deprecated and will be removed in a future version. To retain the old behavior, explicitly call `result.infer_objects(copy=False)`. To opt-in to the future behavior, set `pd.set_option('future.no_silent_downcasting', True)`\n",
      "  X_used[\"gender\"] = X_used[\"gender\"].replace({'M': 0, 'F': 1})\n"
     ]
    }
   ],
   "source": [
    "y = data[\"is_fraud\"]\n",
    "X = data.drop(['is_fraud'],axis=1)\n",
    "     \n",
    "\n",
    "#Modify columns\n",
    "X_used = X.drop(['Unnamed: 0','street','city','state','cc_num', 'unix_time', 'trans_num'], axis=1)\n",
    "X_used[['date', 'time']] = X_used['trans_date_trans_time'].str.split(' ', expand=True)\n",
    "X_used[['day', 'month', 'year']] = X_used['date'].str.split('/', expand=True)\n",
    "X_used['time'] = X_used['time'].apply(lambda x: x.split(':')[0])\n",
    "X_used['dob'] = X_used['dob'].apply(lambda x: x.split('/')[-1])\n",
    "X_used[\"gender\"] = X_used[\"gender\"].replace({'M': 0, 'F': 1})\n",
    "X_used = X_used.drop(['trans_date_trans_time','date'], axis=1)"
   ]
  },
  {
   "cell_type": "code",
   "execution_count": 4,
   "metadata": {},
   "outputs": [],
   "source": [
    "used_data = X_used.copy()\n",
    "used_data['is_fraud'] = y\n",
    "\n",
    "features = used_data.select_dtypes(np.object_).columns\n",
    "cat_features = []\n",
    "for feature in features:\n",
    "    used_data[feature] = used_data[feature].astype('category')\n",
    "    cat_features.append(feature)\n"
   ]
  },
  {
   "cell_type": "code",
   "execution_count": 5,
   "metadata": {},
   "outputs": [],
   "source": [
    "X_train, X_test, y_train, y_test = train_test_split(used_data.drop('is_fraud', axis = 1),\n",
    "                                                    used_data['is_fraud'],\n",
    "                                                    stratify = used_data['is_fraud'],\n",
    "                                                    test_size = 0.25)\n",
    "\n",
    "train_data = X_train.copy()\n",
    "train_data['is_fraud'] = y_train"
   ]
  },
  {
   "cell_type": "code",
   "execution_count": 8,
   "metadata": {},
   "outputs": [],
   "source": [
    "cols_encoder = cat_features\n",
    "\n",
    "encoder = ce.BinaryEncoder(cols=cols_encoder)\n",
    "\n",
    "tra_encoder = encoder.fit_transform(X_train[cols_encoder])\n",
    "test_encode = encoder.transform(X_test[cols_encoder])\n",
    "\n",
    "X_train = X_train.drop(columns=cols_encoder).join(tra_encoder)\n",
    "\n",
    "X_test = X_test.drop(columns=cols_encoder).join(test_encode)"
   ]
  },
  {
   "cell_type": "code",
   "execution_count": null,
   "metadata": {},
   "outputs": [],
   "source": [
    "#Doing oversampling to help with the imbalanced\n",
    "ovs = RandomOverSampler(sampling_strategy = \"auto\", random_state = 11)\n",
    "x_rovs, y_rovs = ovs.fit_resample(X_train, y_train)"
   ]
  },
  {
   "cell_type": "markdown",
   "metadata": {},
   "source": [
    "Using code from kaggle on using nueral networks to help with classifcation: https://www.kaggle.com/code/guptanuj890/creditcardfraudtransaction-with-98-f-score"
   ]
  },
  {
   "cell_type": "code",
   "execution_count": null,
   "metadata": {},
   "outputs": [],
   "source": []
  }
 ],
 "metadata": {
  "kernelspec": {
   "display_name": "base",
   "language": "python",
   "name": "python3"
  },
  "language_info": {
   "codemirror_mode": {
    "name": "ipython",
    "version": 3
   },
   "file_extension": ".py",
   "mimetype": "text/x-python",
   "name": "python",
   "nbconvert_exporter": "python",
   "pygments_lexer": "ipython3",
   "version": "3.9.12"
  }
 },
 "nbformat": 4,
 "nbformat_minor": 2
}
