{
  "cells": [
    {
      "cell_type": "code",
      "execution_count": null,
      "metadata": {
        "id": "f-e_9heLsAsx"
      },
      "outputs": [],
      "source": [
        "from google.colab import files\n",
        "uploaded = files.upload()"
      ]
    },
    {
      "cell_type": "code",
      "execution_count": null,
      "metadata": {
        "id": "xdl-BCGN6IZ1"
      },
      "outputs": [],
      "source": [
        "!pip install category_encoders"
      ]
    },
    {
      "cell_type": "code",
      "execution_count": null,
      "metadata": {
        "id": "DQQLYs6PC5EU"
      },
      "outputs": [],
      "source": [
        "!pip install feature-engine"
      ]
    },
    {
      "cell_type": "code",
      "execution_count": 2,
      "metadata": {
        "id": "3T504ma3sURu"
      },
      "outputs": [],
      "source": [
        "import pandas as pd\n",
        "import numpy as np\n",
        "from category_encoders import TargetEncoder\n",
        "from category_encoders import HashingEncoder\n",
        "import seaborn as sns\n",
        "from sklearn.model_selection import train_test_split\n",
        "from sklearn.metrics import classification_report, roc_auc_score, precision_score, confusion_matrix\n",
        "from sklearn.ensemble import RandomForestClassifier, AdaBoostClassifier, VotingClassifier, BaggingClassifier\n",
        "from sklearn.pipeline import Pipeline\n",
        "from sklearn.preprocessing import StandardScaler, RobustScaler\n",
        "from feature_engine.encoding import CountFrequencyEncoder, MeanEncoder, RareLabelEncoder, OrdinalEncoder\n"
      ]
    },
    {
      "cell_type": "code",
      "execution_count": null,
      "metadata": {
        "id": "Mb3ntqVzDbza"
      },
      "outputs": [],
      "source": [
        "!pip install imbalanced-learn"
      ]
    },
    {
      "cell_type": "code",
      "execution_count": null,
      "metadata": {
        "id": "_zcDoKIUKGL7"
      },
      "outputs": [],
      "source": [
        "!pip uninstall scikit-learn --yes\n",
        "!pip uninstall imblearn --yes\n",
        "!pip install scikit-learn==1.2.2\n",
        "!pip install imblearn"
      ]
    },
    {
      "cell_type": "code",
      "execution_count": 1,
      "metadata": {
        "id": "trO5QoCxOT6m"
      },
      "outputs": [],
      "source": [
        "from imblearn.over_sampling import RandomOverSampler, SMOTE, BorderlineSMOTE, SVMSMOTE, ADASYN"
      ]
    },
    {
      "cell_type": "code",
      "execution_count": 109,
      "metadata": {
        "id": "tm-kngHCtNTJ"
      },
      "outputs": [],
      "source": [
        "data = pd.read_csv('fraud_test.csv')\n"
      ]
    },
    {
      "cell_type": "code",
      "execution_count": 110,
      "metadata": {
        "id": "MaYHUJ7HDpd2"
      },
      "outputs": [],
      "source": [
        "y = data[\"is_fraud\"]\n",
        "X = data.drop(['is_fraud'],axis=1)"
      ]
    },
    {
      "cell_type": "code",
      "execution_count": 111,
      "metadata": {
        "colab": {
          "base_uri": "https://localhost:8080/"
        },
        "id": "crhPxJiRt3oH",
        "outputId": "17a5085a-96bc-40de-fa88-7ac18e4baf81"
      },
      "outputs": [
        {
          "name": "stderr",
          "output_type": "stream",
          "text": [
            "<ipython-input-111-ee95265836cb>:7: FutureWarning: Downcasting behavior in `replace` is deprecated and will be removed in a future version. To retain the old behavior, explicitly call `result.infer_objects(copy=False)`. To opt-in to the future behavior, set `pd.set_option('future.no_silent_downcasting', True)`\n",
            "  X_used[\"gender\"] = X_used[\"gender\"].replace({'M': 0, 'F': 1})\n"
          ]
        }
      ],
      "source": [
        "#Modify columns\n",
        "X_used = X.drop(['Unnamed: 0','street','city','state','cc_num', 'unix_time', 'trans_num'], axis=1)\n",
        "X_used[['date', 'time']] = X_used['trans_date_trans_time'].str.split(' ', expand=True)\n",
        "X_used[['day', 'month', 'year']] = X_used['date'].str.split('/', expand=True)\n",
        "X_used['time'] = X_used['time'].apply(lambda x: x.split(':')[0])\n",
        "X_used['dob'] = X_used['dob'].apply(lambda x: x.split('/')[-1])\n",
        "X_used[\"gender\"] = X_used[\"gender\"].replace({'M': 0, 'F': 1})\n",
        "X_used = X_used.drop(['trans_date_trans_time','date'], axis=1)"
      ]
    },
    {
      "cell_type": "code",
      "execution_count": null,
      "metadata": {
        "id": "YXgM3XAdGBCa"
      },
      "outputs": [],
      "source": [
        "print(X_used)"
      ]
    },
    {
      "cell_type": "code",
      "execution_count": 112,
      "metadata": {
        "id": "G9yjBjMPFhxY"
      },
      "outputs": [],
      "source": [
        "used_data = X_used.copy()\n",
        "used_data['is_fraud'] = y"
      ]
    },
    {
      "cell_type": "code",
      "execution_count": null,
      "metadata": {
        "id": "cjY0MFHtF4m3"
      },
      "outputs": [],
      "source": [
        "print(used_data)"
      ]
    },
    {
      "cell_type": "code",
      "execution_count": 113,
      "metadata": {
        "id": "-QYPYHy8Hs04"
      },
      "outputs": [],
      "source": [
        "features = used_data.select_dtypes(np.object_).columns\n",
        "cat_features = []\n",
        "for feature in features:\n",
        "    used_data[feature] = used_data[feature].astype('category')\n",
        "    cat_features.append(feature)"
      ]
    },
    {
      "cell_type": "code",
      "execution_count": 114,
      "metadata": {
        "id": "F3uC4YoID4FG"
      },
      "outputs": [],
      "source": [
        "X_train, X_test, y_train, y_test = train_test_split(used_data.drop('is_fraud', axis = 1),\n",
        "                                                    used_data['is_fraud'],\n",
        "                                                    stratify = used_data['is_fraud'],\n",
        "                                                    test_size = 0.5)"
      ]
    },
    {
      "cell_type": "code",
      "execution_count": 115,
      "metadata": {
        "id": "WuRYPZd2GlXn"
      },
      "outputs": [],
      "source": [
        "train_data = X_train.copy()\n",
        "train_data['is_fraud'] = y_train"
      ]
    },
    {
      "cell_type": "code",
      "execution_count": 116,
      "metadata": {
        "colab": {
          "base_uri": "https://localhost:8080/",
          "height": 689
        },
        "id": "NSSqYzcdGcJd",
        "outputId": "0ac2be94-18cd-4f51-eb3d-9ace988a0c12"
      },
      "outputs": [
        {
          "name": "stderr",
          "output_type": "stream",
          "text": [
            "<ipython-input-116-69342c6395cb>:4: FutureWarning: \n",
            "\n",
            "Passing `palette` without assigning `hue` is deprecated and will be removed in v0.14.0. Assign the `x` variable to `hue` and set `legend=False` for the same effect.\n",
            "\n",
            "  sns.countplot(x='is_fraud', data=train_data, palette=colors)\n",
            "/usr/local/lib/python3.10/dist-packages/seaborn/_base.py:949: FutureWarning: When grouping with a length-1 list-like, you will need to pass a length-1 tuple to get_group in a future version of pandas. Pass `(name,)` instead of `name` to silence this warning.\n",
            "  data_subset = grouped_data.get_group(pd_key)\n",
            "/usr/local/lib/python3.10/dist-packages/seaborn/_base.py:949: FutureWarning: When grouping with a length-1 list-like, you will need to pass a length-1 tuple to get_group in a future version of pandas. Pass `(name,)` instead of `name` to silence this warning.\n",
            "  data_subset = grouped_data.get_group(pd_key)\n"
          ]
        },
        {
          "data": {
            "text/plain": [
              "Text(0.5, 1.0, 'Class Distributions \\n (0: No Fraud || 1: Fraud)')"
            ]
          },
          "execution_count": 116,
          "metadata": {},
          "output_type": "execute_result"
        },
        {
          "data": {
            "image/png": "[encoded data removed]",
            "text/plain": [
              "<Figure size 640x480 with 1 Axes>"
            ]
          },
          "metadata": {},
          "output_type": "display_data"
        }
      ],
      "source": [
        "#Show plot\n",
        "import matplotlib.pyplot as plt\n",
        "colors = [\"#0101DF\", \"#DF0101\"]\n",
        "sns.countplot(x='is_fraud', data=train_data, palette=colors)\n",
        "plt.title('Class Distributions \\n (0: No Fraud || 1: Fraud)', fontsize=14)"
      ]
    },
    {
      "cell_type": "code",
      "execution_count": null,
      "metadata": {
        "id": "1K7YRZSmIxhL"
      },
      "outputs": [],
      "source": [
        "print(train_data.dtypes)"
      ]
    },
    {
      "cell_type": "code",
      "execution_count": 117,
      "metadata": {
        "id": "z7oe1A1sG9Rw"
      },
      "outputs": [],
      "source": [
        "target_encoder = TargetEncoder()\n",
        "train_data[cat_features] = target_encoder.fit_transform(train_data[cat_features], train_data[\"is_fraud\"])"
      ]
    },
    {
      "cell_type": "code",
      "execution_count": 118,
      "metadata": {
        "colab": {
          "base_uri": "https://localhost:8080/",
          "height": 313
        },
        "id": "Y2GHujD8HKhO",
        "outputId": "6fc0eb5d-2f59-44cd-d35b-23e5da588ef1"
      },
      "outputs": [
        {
          "data": {
            "application/vnd.google.colaboratory.intrinsic+json": {
              "type": "dataframe",
              "variable_name": "train_data"
            },
            "text/html": [
              "\n",
              "  <div id=\"df-75b0be83-6a2e-48a2-aa39-efbbae782ef8\" class=\"colab-df-container\">\n",
              "    <div>\n",
              "<style scoped>\n",
              "    .dataframe tbody tr th:only-of-type {\n",
              "        vertical-align: middle;\n",
              "    }\n",
              "\n",
              "    .dataframe tbody tr th {\n",
              "        vertical-align: top;\n",
              "    }\n",
              "\n",
              "    .dataframe thead th {\n",
              "        text-align: right;\n",
              "    }\n",
              "</style>\n",
              "<table border=\"1\" class=\"dataframe\">\n",
              "  <thead>\n",
              "    <tr style=\"text-align: right;\">\n",
              "      <th></th>\n",
              "      <th>merchant</th>\n",
              "      <th>category</th>\n",
              "      <th>amt</th>\n",
              "      <th>first</th>\n",
              "      <th>last</th>\n",
              "      <th>gender</th>\n",
              "      <th>zip</th>\n",
              "      <th>lat</th>\n",
              "      <th>long</th>\n",
              "      <th>city_pop</th>\n",
              "      <th>job</th>\n",
              "      <th>dob</th>\n",
              "      <th>merch_lat</th>\n",
              "      <th>merch_long</th>\n",
              "      <th>time</th>\n",
              "      <th>day</th>\n",
              "      <th>month</th>\n",
              "      <th>year</th>\n",
              "      <th>is_fraud</th>\n",
              "    </tr>\n",
              "  </thead>\n",
              "  <tbody>\n",
              "    <tr>\n",
              "      <th>223536</th>\n",
              "      <td>4.454653e-17</td>\n",
              "      <td>0.002226</td>\n",
              "      <td>2.08</td>\n",
              "      <td>0.006775</td>\n",
              "      <td>0.006437</td>\n",
              "      <td>0</td>\n",
              "      <td>21750</td>\n",
              "      <td>39.6991</td>\n",
              "      <td>-78.1762</td>\n",
              "      <td>3766</td>\n",
              "      <td>0.006572</td>\n",
              "      <td>0.002982</td>\n",
              "      <td>38.859445</td>\n",
              "      <td>-77.237519</td>\n",
              "      <td>0.000845</td>\n",
              "      <td>0.006398</td>\n",
              "      <td>0.004861</td>\n",
              "      <td>0.003858</td>\n",
              "      <td>0</td>\n",
              "    </tr>\n",
              "    <tr>\n",
              "      <th>6891</th>\n",
              "      <td>1.828154e-03</td>\n",
              "      <td>0.002770</td>\n",
              "      <td>64.59</td>\n",
              "      <td>0.004649</td>\n",
              "      <td>0.014085</td>\n",
              "      <td>0</td>\n",
              "      <td>14425</td>\n",
              "      <td>42.9580</td>\n",
              "      <td>-77.3083</td>\n",
              "      <td>10717</td>\n",
              "      <td>0.006518</td>\n",
              "      <td>0.007775</td>\n",
              "      <td>42.089070</td>\n",
              "      <td>-77.518054</td>\n",
              "      <td>0.000881</td>\n",
              "      <td>0.002937</td>\n",
              "      <td>0.004917</td>\n",
              "      <td>0.003858</td>\n",
              "      <td>0</td>\n",
              "    </tr>\n",
              "    <tr>\n",
              "      <th>400492</th>\n",
              "      <td>3.527337e-03</td>\n",
              "      <td>0.002770</td>\n",
              "      <td>41.16</td>\n",
              "      <td>0.003096</td>\n",
              "      <td>0.000000</td>\n",
              "      <td>1</td>\n",
              "      <td>81642</td>\n",
              "      <td>39.3199</td>\n",
              "      <td>-106.6596</td>\n",
              "      <td>61</td>\n",
              "      <td>0.002174</td>\n",
              "      <td>0.000000</td>\n",
              "      <td>39.130984</td>\n",
              "      <td>-106.671276</td>\n",
              "      <td>0.000881</td>\n",
              "      <td>0.005545</td>\n",
              "      <td>0.003814</td>\n",
              "      <td>0.003858</td>\n",
              "      <td>0</td>\n",
              "    </tr>\n",
              "    <tr>\n",
              "      <th>48245</th>\n",
              "      <td>2.777778e-03</td>\n",
              "      <td>0.002226</td>\n",
              "      <td>5.70</td>\n",
              "      <td>0.002486</td>\n",
              "      <td>0.002377</td>\n",
              "      <td>1</td>\n",
              "      <td>45622</td>\n",
              "      <td>39.3543</td>\n",
              "      <td>-82.5030</td>\n",
              "      <td>321</td>\n",
              "      <td>0.000000</td>\n",
              "      <td>0.001813</td>\n",
              "      <td>40.287033</td>\n",
              "      <td>-83.376057</td>\n",
              "      <td>0.000495</td>\n",
              "      <td>0.005175</td>\n",
              "      <td>0.003732</td>\n",
              "      <td>0.003858</td>\n",
              "      <td>0</td>\n",
              "    </tr>\n",
              "    <tr>\n",
              "      <th>326833</th>\n",
              "      <td>1.984127e-03</td>\n",
              "      <td>0.000909</td>\n",
              "      <td>61.83</td>\n",
              "      <td>0.000000</td>\n",
              "      <td>0.000000</td>\n",
              "      <td>1</td>\n",
              "      <td>15829</td>\n",
              "      <td>41.1762</td>\n",
              "      <td>-79.1976</td>\n",
              "      <td>1274</td>\n",
              "      <td>0.000000</td>\n",
              "      <td>0.003824</td>\n",
              "      <td>41.680498</td>\n",
              "      <td>-78.745804</td>\n",
              "      <td>0.000845</td>\n",
              "      <td>0.004980</td>\n",
              "      <td>0.005554</td>\n",
              "      <td>0.003858</td>\n",
              "      <td>0</td>\n",
              "    </tr>\n",
              "  </tbody>\n",
              "</table>\n",
              "</div>\n",
              "    <div class=\"colab-df-buttons\">\n",
              "\n",
              "  <div class=\"colab-df-container\">\n",
              "    <button class=\"colab-df-convert\" onclick=\"convertToInteractive('df-75b0be83-6a2e-48a2-aa39-efbbae782ef8')\"\n",
              "            title=\"Convert this dataframe to an interactive table.\"\n",
              "            style=\"display:none;\">\n",
              "\n",
              "  <svg xmlns=\"http://www.w3.org/2000/svg\" height=\"24px\" viewBox=\"0 -960 960 960\">\n",
              "    <path d=\"M120-120v-720h720v720H120Zm60-500h600v-160H180v160Zm220 220h160v-160H400v160Zm0 220h160v-160H400v160ZM180-400h160v-160H180v160Zm440 0h160v-160H620v160ZM180-180h160v-160H180v160Zm440 0h160v-160H620v160Z\"/>\n",
              "  </svg>\n",
              "    </button>\n",
              "\n",
              "  <style>\n",
              "    .colab-df-container {\n",
              "      display:flex;\n",
              "      gap: 12px;\n",
              "    }\n",
              "\n",
              "    .colab-df-convert {\n",
              "      background-color: #E8F0FE;\n",
              "      border: none;\n",
              "      border-radius: 50%;\n",
              "      cursor: pointer;\n",
              "      display: none;\n",
              "      fill: #1967D2;\n",
              "      height: 32px;\n",
              "      padding: 0 0 0 0;\n",
              "      width: 32px;\n",
              "    }\n",
              "\n",
              "    .colab-df-convert:hover {\n",
              "      background-color: #E2EBFA;\n",
              "      box-shadow: 0px 1px 2px rgba(60, 64, 67, 0.3), 0px 1px 3px 1px rgba(60, 64, 67, 0.15);\n",
              "      fill: #174EA6;\n",
              "    }\n",
              "\n",
              "    .colab-df-buttons div {\n",
              "      margin-bottom: 4px;\n",
              "    }\n",
              "\n",
              "    [theme=dark] .colab-df-convert {\n",
              "      background-color: #3B4455;\n",
              "      fill: #D2E3FC;\n",
              "    }\n",
              "\n",
              "    [theme=dark] .colab-df-convert:hover {\n",
              "      background-color: #434B5C;\n",
              "      box-shadow: 0px 1px 3px 1px rgba(0, 0, 0, 0.15);\n",
              "      filter: drop-shadow(0px 1px 2px rgba(0, 0, 0, 0.3));\n",
              "      fill: #FFFFFF;\n",
              "    }\n",
              "  </style>\n",
              "\n",
              "    <script>\n",
              "      const buttonEl =\n",
              "        document.querySelector('#df-75b0be83-6a2e-48a2-aa39-efbbae782ef8 button.colab-df-convert');\n",
              "      buttonEl.style.display =\n",
              "        google.colab.kernel.accessAllowed ? 'block' : 'none';\n",
              "\n",
              "      async function convertToInteractive(key) {\n",
              "        const element = document.querySelector('#df-75b0be83-6a2e-48a2-aa39-efbbae782ef8');\n",
              "        const dataTable =\n",
              "          await google.colab.kernel.invokeFunction('convertToInteractive',\n",
              "                                                    [key], {});\n",
              "        if (!dataTable) return;\n",
              "\n",
              "        const docLinkHtml = 'Like what you see? Visit the ' +\n",
              "          '<a target=\"_blank\" href=https://colab.research.google.com/notebooks/data_table.ipynb>data table notebook</a>'\n",
              "          + ' to learn more about interactive tables.';\n",
              "        element.innerHTML = '';\n",
              "        dataTable['output_type'] = 'display_data';\n",
              "        await google.colab.output.renderOutput(dataTable, element);\n",
              "        const docLink = document.createElement('div');\n",
              "        docLink.innerHTML = docLinkHtml;\n",
              "        element.appendChild(docLink);\n",
              "      }\n",
              "    </script>\n",
              "  </div>\n",
              "\n",
              "\n",
              "<div id=\"df-c48cf03e-bf4e-4761-ad53-5d3e1b9c886a\">\n",
              "  <button class=\"colab-df-quickchart\" onclick=\"quickchart('df-c48cf03e-bf4e-4761-ad53-5d3e1b9c886a')\"\n",
              "            title=\"Suggest charts\"\n",
              "            style=\"display:none;\">\n",
              "\n",
              "<svg xmlns=\"http://www.w3.org/2000/svg\" height=\"24px\"viewBox=\"0 0 24 24\"\n",
              "     width=\"24px\">\n",
              "    <g>\n",
              "        <path d=\"M19 3H5c-1.1 0-2 .9-2 2v14c0 1.1.9 2 2 2h14c1.1 0 2-.9 2-2V5c0-1.1-.9-2-2-2zM9 17H7v-7h2v7zm4 0h-2V7h2v10zm4 0h-2v-4h2v4z\"/>\n",
              "    </g>\n",
              "</svg>\n",
              "  </button>\n",
              "\n",
              "<style>\n",
              "  .colab-df-quickchart {\n",
              "      --bg-color: #E8F0FE;\n",
              "      --fill-color: #1967D2;\n",
              "      --hover-bg-color: #E2EBFA;\n",
              "      --hover-fill-color: #174EA6;\n",
              "      --disabled-fill-color: #AAA;\n",
              "      --disabled-bg-color: #DDD;\n",
              "  }\n",
              "\n",
              "  [theme=dark] .colab-df-quickchart {\n",
              "      --bg-color: #3B4455;\n",
              "      --fill-color: #D2E3FC;\n",
              "      --hover-bg-color: #434B5C;\n",
              "      --hover-fill-color: #FFFFFF;\n",
              "      --disabled-bg-color: #3B4455;\n",
              "      --disabled-fill-color: #666;\n",
              "  }\n",
              "\n",
              "  .colab-df-quickchart {\n",
              "    background-color: var(--bg-color);\n",
              "    border: none;\n",
              "    border-radius: 50%;\n",
              "    cursor: pointer;\n",
              "    display: none;\n",
              "    fill: var(--fill-color);\n",
              "    height: 32px;\n",
              "    padding: 0;\n",
              "    width: 32px;\n",
              "  }\n",
              "\n",
              "  .colab-df-quickchart:hover {\n",
              "    background-color: var(--hover-bg-color);\n",
              "    box-shadow: 0 1px 2px rgba(60, 64, 67, 0.3), 0 1px 3px 1px rgba(60, 64, 67, 0.15);\n",
              "    fill: var(--button-hover-fill-color);\n",
              "  }\n",
              "\n",
              "  .colab-df-quickchart-complete:disabled,\n",
              "  .colab-df-quickchart-complete:disabled:hover {\n",
              "    background-color: var(--disabled-bg-color);\n",
              "    fill: var(--disabled-fill-color);\n",
              "    box-shadow: none;\n",
              "  }\n",
              "\n",
              "  .colab-df-spinner {\n",
              "    border: 2px solid var(--fill-color);\n",
              "    border-color: transparent;\n",
              "    border-bottom-color: var(--fill-color);\n",
              "    animation:\n",
              "      spin 1s steps(1) infinite;\n",
              "  }\n",
              "\n",
              "  @keyframes spin {\n",
              "    0% {\n",
              "      border-color: transparent;\n",
              "      border-bottom-color: var(--fill-color);\n",
              "      border-left-color: var(--fill-color);\n",
              "    }\n",
              "    20% {\n",
              "      border-color: transparent;\n",
              "      border-left-color: var(--fill-color);\n",
              "      border-top-color: var(--fill-color);\n",
              "    }\n",
              "    30% {\n",
              "      border-color: transparent;\n",
              "      border-left-color: var(--fill-color);\n",
              "      border-top-color: var(--fill-color);\n",
              "      border-right-color: var(--fill-color);\n",
              "    }\n",
              "    40% {\n",
              "      border-color: transparent;\n",
              "      border-right-color: var(--fill-color);\n",
              "      border-top-color: var(--fill-color);\n",
              "    }\n",
              "    60% {\n",
              "      border-color: transparent;\n",
              "      border-right-color: var(--fill-color);\n",
              "    }\n",
              "    80% {\n",
              "      border-color: transparent;\n",
              "      border-right-color: var(--fill-color);\n",
              "      border-bottom-color: var(--fill-color);\n",
              "    }\n",
              "    90% {\n",
              "      border-color: transparent;\n",
              "      border-bottom-color: var(--fill-color);\n",
              "    }\n",
              "  }\n",
              "</style>\n",
              "\n",
              "  <script>\n",
              "    async function quickchart(key) {\n",
              "      const quickchartButtonEl =\n",
              "        document.querySelector('#' + key + ' button');\n",
              "      quickchartButtonEl.disabled = true;  // To prevent multiple clicks.\n",
              "      quickchartButtonEl.classList.add('colab-df-spinner');\n",
              "      try {\n",
              "        const charts = await google.colab.kernel.invokeFunction(\n",
              "            'suggestCharts', [key], {});\n",
              "      } catch (error) {\n",
              "        console.error('Error during call to suggestCharts:', error);\n",
              "      }\n",
              "      quickchartButtonEl.classList.remove('colab-df-spinner');\n",
              "      quickchartButtonEl.classList.add('colab-df-quickchart-complete');\n",
              "    }\n",
              "    (() => {\n",
              "      let quickchartButtonEl =\n",
              "        document.querySelector('#df-c48cf03e-bf4e-4761-ad53-5d3e1b9c886a button');\n",
              "      quickchartButtonEl.style.display =\n",
              "        google.colab.kernel.accessAllowed ? 'block' : 'none';\n",
              "    })();\n",
              "  </script>\n",
              "</div>\n",
              "    </div>\n",
              "  </div>\n"
            ],
            "text/plain": [
              "            merchant  category    amt     first      last  gender    zip  \\\n",
              "223536  4.454653e-17  0.002226   2.08  0.006775  0.006437       0  21750   \n",
              "6891    1.828154e-03  0.002770  64.59  0.004649  0.014085       0  14425   \n",
              "400492  3.527337e-03  0.002770  41.16  0.003096  0.000000       1  81642   \n",
              "48245   2.777778e-03  0.002226   5.70  0.002486  0.002377       1  45622   \n",
              "326833  1.984127e-03  0.000909  61.83  0.000000  0.000000       1  15829   \n",
              "\n",
              "            lat      long  city_pop       job       dob  merch_lat  \\\n",
              "223536  39.6991  -78.1762      3766  0.006572  0.002982  38.859445   \n",
              "6891    42.9580  -77.3083     10717  0.006518  0.007775  42.089070   \n",
              "400492  39.3199 -106.6596        61  0.002174  0.000000  39.130984   \n",
              "48245   39.3543  -82.5030       321  0.000000  0.001813  40.287033   \n",
              "326833  41.1762  -79.1976      1274  0.000000  0.003824  41.680498   \n",
              "\n",
              "        merch_long      time       day     month      year  is_fraud  \n",
              "223536  -77.237519  0.000845  0.006398  0.004861  0.003858         0  \n",
              "6891    -77.518054  0.000881  0.002937  0.004917  0.003858         0  \n",
              "400492 -106.671276  0.000881  0.005545  0.003814  0.003858         0  \n",
              "48245   -83.376057  0.000495  0.005175  0.003732  0.003858         0  \n",
              "326833  -78.745804  0.000845  0.004980  0.005554  0.003858         0  "
            ]
          },
          "execution_count": 118,
          "metadata": {},
          "output_type": "execute_result"
        }
      ],
      "source": [
        "train_data.head()"
      ]
    },
    {
      "cell_type": "code",
      "execution_count": 119,
      "metadata": {
        "id": "v6HtVlddjETu"
      },
      "outputs": [],
      "source": [
        "X_train = train_data.drop('is_fraud',axis=1)\n",
        "y_train = train_data[\"is_fraud\"]"
      ]
    },
    {
      "cell_type": "code",
      "execution_count": 120,
      "metadata": {
        "id": "VvqXAB7qQ_2t"
      },
      "outputs": [],
      "source": [
        "X_test[cat_features] = target_encoder.transform(X_test[cat_features])"
      ]
    },
    {
      "cell_type": "code",
      "execution_count": null,
      "metadata": {
        "id": "LBXFKjh7wZuE"
      },
      "outputs": [],
      "source": [
        "print(X_test)"
      ]
    },
    {
      "cell_type": "code",
      "execution_count": 121,
      "metadata": {
        "id": "MzeormnzyjTP"
      },
      "outputs": [],
      "source": [
        "#Undersampling\n",
        "def undersample(train_data):\n",
        "  train_data = train_data.sample(frac=1)\n",
        "  fraud_data = train_data.loc[train_data['is_fraud'] == 1]\n",
        "  non_fraud_data = train_data.loc[train_data['is_fraud'] == 0][:1500]\n",
        "  normal_distributed_data = pd.concat([fraud_data, non_fraud_data])\n",
        "  new_data = normal_distributed_data.sample(frac=1, random_state=42)\n",
        "  return new_data\n"
      ]
    },
    {
      "cell_type": "code",
      "execution_count": 122,
      "metadata": {
        "colab": {
          "base_uri": "https://localhost:8080/"
        },
        "id": "da_ArRFBSaFH",
        "outputId": "f6da6d9e-2e9f-42df-8817-a9b3b432e16f"
      },
      "outputs": [
        {
          "name": "stdout",
          "output_type": "stream",
          "text": [
            "roc_auc: 0.9803126612130623 pr_recall: 0.6334383207542007\n"
          ]
        }
      ],
      "source": [
        "from sklearn.model_selection import train_test_split\n",
        "from sklearn.metrics import roc_auc_score\n",
        "from sklearn.metrics import precision_score, recall_score\n",
        "from sklearn.metrics import roc_auc_score, precision_recall_curve, auc,roc_curve\n",
        "import xgboost as xgb\n",
        "#Run XGBoost\n",
        "balanced_datas = []\n",
        "y_predict_under = []\n",
        "y_predict_proba_under = []\n",
        "score = 0\n",
        "roc_score = 0\n",
        "pr_score = 0\n",
        "for i in range(10):\n",
        "  balanced_datas.append(undersample(train_data))\n",
        "\n",
        "import xgboost as xgb\n",
        "from sklearn.model_selection import GridSearchCV\n",
        "\n",
        "xgb_model = xgb.XGBClassifier(n_estimators=100,\n",
        "                              max_depth=3,\n",
        "                              learning_rate=0.1)\n",
        "\n",
        "for data in balanced_datas:\n",
        "  X_tr_under = data.drop(columns=['is_fraud'])\n",
        "  y_tr_under = data['is_fraud']\n",
        "  xgb_model.fit(X_tr_under, y_tr_under)\n",
        "  y_pred_proba = xgb_model.predict_proba(X_test)\n",
        "  y_pred = xgb_model.predict(X_test)\n",
        "  roc_auc = roc_auc_score(y_test, y_pred_proba[:,1])\n",
        "  precision, recall, _ = precision_recall_curve(y_test, y_pred_proba[:,1])\n",
        "  pr_auc = auc(recall, precision)\n",
        "  if(score<roc_auc+pr_auc):\n",
        "    score = roc_auc+pr_auc\n",
        "    roc_score = roc_auc\n",
        "    pr_score = pr_auc\n",
        "    y_predict_under = y_pred\n",
        "    y_predict_proba_under = y_pred_proba\n",
        "\n",
        "print(f\"roc_auc: {roc_score} pr_recall: {pr_score}\")\n"
      ]
    },
    {
      "cell_type": "code",
      "execution_count": 123,
      "metadata": {
        "colab": {
          "base_uri": "https://localhost:8080/"
        },
        "id": "J9ntxf66BdkQ",
        "outputId": "0ad43426-7ff4-4afd-ac57-036dd1ade92a"
      },
      "outputs": [
        {
          "name": "stdout",
          "output_type": "stream",
          "text": [
            "roc_auc: 0.9778886113842672 pr_recall: 0.6797530516309225\n"
          ]
        }
      ],
      "source": [
        "ovs = RandomOverSampler(sampling_strategy = \"auto\", random_state = 11)\n",
        "x_rovs, y_rovs = ovs.fit_resample(X_train, y_train)\n",
        "\n",
        "xgb_model.fit(x_rovs, y_rovs)\n",
        "y_pred_proba_ovs = xgb_model.predict_proba(X_test)\n",
        "y_pred_ovs = xgb_model.predict(X_test)\n",
        "fpr, tpr, _ = roc_curve(y_test, y_pred_proba_ovs[:,1])\n",
        "roc_auc = auc(fpr, tpr)\n",
        "\n",
        "# Compute Precision-Recall curve and area for the positive class\n",
        "precision, recall, _ = precision_recall_curve(y_test, y_pred_proba_ovs[:,1])\n",
        "pr_auc = auc(recall, precision)\n",
        "print(f\"roc_auc: {roc_auc} pr_recall: {pr_auc}\")"
      ]
    },
    {
      "cell_type": "code",
      "execution_count": 124,
      "metadata": {
        "colab": {
          "base_uri": "https://localhost:8080/"
        },
        "id": "SSARfInYBlpV",
        "outputId": "2d0d36fd-200f-463b-9747-655b37620c8f"
      },
      "outputs": [
        {
          "name": "stderr",
          "output_type": "stream",
          "text": [
            "/usr/local/lib/python3.10/dist-packages/imblearn/over_sampling/_smote/base.py:336: FutureWarning: The parameter `n_jobs` has been deprecated in 0.10 and will be removed in 0.12. You can pass an nearest neighbors estimator where `n_jobs` is already set instead.\n",
            "  warnings.warn(\n"
          ]
        },
        {
          "name": "stdout",
          "output_type": "stream",
          "text": [
            "roc_auc: 0.9761137093683233 pr_recall: 0.6247650878480792\n"
          ]
        }
      ],
      "source": [
        "smovs = SMOTE(sampling_strategy = \"auto\", random_state = 11, k_neighbors = 5, n_jobs = -1)\n",
        "x_smote, y_smote = smovs.fit_resample(X_train, y_train)\n",
        "\n",
        "xgb_model.fit(x_smote, y_smote)\n",
        "y_pred_proba_smovs = xgb_model.predict_proba(X_test)\n",
        "y_pred_smovs = xgb_model.predict(X_test)\n",
        "fpr, tpr, _ = roc_curve(y_test, y_pred_proba_smovs[:,1])\n",
        "roc_auc = auc(fpr, tpr)\n",
        "\n",
        "# Compute Precision-Recall curve and area for the positive class\n",
        "precision, recall, _ = precision_recall_curve(y_test, y_pred_proba_smovs[:,1])\n",
        "pr_auc = auc(recall, precision)\n",
        "print(f\"roc_auc: {roc_auc} pr_recall: {pr_auc}\")"
      ]
    },
    {
      "cell_type": "code",
      "execution_count": 125,
      "metadata": {
        "colab": {
          "base_uri": "https://localhost:8080/"
        },
        "id": "Az9JovAGBqo0",
        "outputId": "59061cfe-9ad0-4e12-be1f-d251954e4c33"
      },
      "outputs": [
        {
          "name": "stdout",
          "output_type": "stream",
          "text": [
            "roc_auc: 0.9771311055983709 pr_recall: 0.6280273191637503\n"
          ]
        }
      ],
      "source": [
        "border_smovs = BorderlineSMOTE()\n",
        "x_border, y_border = border_smovs.fit_resample(X_train, y_train)\n",
        "\n",
        "xgb_model.fit(x_border, y_border)\n",
        "y_pred_proba_border = xgb_model.predict_proba(X_test)\n",
        "y_pred_border = xgb_model.predict(X_test)\n",
        "fpr, tpr, _ = roc_curve(y_test, y_pred_proba_border[:,1])\n",
        "roc_auc = auc(fpr, tpr)\n",
        "\n",
        "# Compute Precision-Recall curve and area for the positive class\n",
        "precision, recall, _ = precision_recall_curve(y_test, y_pred_proba_border[:,1])\n",
        "pr_auc = auc(recall, precision)\n",
        "print(f\"roc_auc: {roc_auc} pr_recall: {pr_auc}\")"
      ]
    },
    {
      "cell_type": "code",
      "execution_count": 126,
      "metadata": {
        "colab": {
          "base_uri": "https://localhost:8080/"
        },
        "id": "aucLXIquBt3R",
        "outputId": "99e0a03e-1247-4630-e81a-17823e83126b"
      },
      "outputs": [
        {
          "name": "stdout",
          "output_type": "stream",
          "text": [
            "roc_auc: 0.9768849175227017 pr_recall: 0.6318878901816035\n"
          ]
        }
      ],
      "source": [
        "b_svm = SVMSMOTE()\n",
        "x_svm, y_svm = b_svm.fit_resample(X_train, y_train)\n",
        "\n",
        "xgb_model.fit(x_svm, y_svm)\n",
        "y_pred_proba_svm = xgb_model.predict_proba(X_test)\n",
        "y_pred_svm = xgb_model.predict(X_test)\n",
        "fpr, tpr, _ = roc_curve(y_test, y_pred_proba_svm[:,1])\n",
        "roc_auc = auc(fpr, tpr)\n",
        "\n",
        "# Compute Precision-Recall curve and area for the positive class\n",
        "precision, recall, _ = precision_recall_curve(y_test, y_pred_proba_svm[:,1])\n",
        "pr_auc = auc(recall, precision)\n",
        "print(f\"roc_auc: {roc_auc} pr_recall: {pr_auc}\")"
      ]
    },
    {
      "cell_type": "code",
      "execution_count": 127,
      "metadata": {
        "colab": {
          "base_uri": "https://localhost:8080/",
          "height": 564
        },
        "id": "4oNcW_0mgM41",
        "outputId": "4754c551-f470-482f-8a36-15aa9af5c272"
      },
      "outputs": [
        {
          "data": {
            "image/png": "[encoded data removed]",
            "text/plain": [
              "<Figure size 800x600 with 1 Axes>"
            ]
          },
          "metadata": {},
          "output_type": "display_data"
        }
      ],
      "source": [
        "cm = confusion_matrix(y_test, y_pred_ovs)\n",
        "plt.figure(figsize=(8, 6))\n",
        "sns.heatmap(cm, annot=True, fmt='d', cmap='Blues', cbar=False)\n",
        "plt.xlabel('Predicted labels')\n",
        "plt.ylabel('True labels')\n",
        "plt.title('Confusion Matrix')\n",
        "plt.show()"
      ]
    },
    {
      "cell_type": "code",
      "execution_count": 128,
      "metadata": {
        "colab": {
          "base_uri": "https://localhost:8080/",
          "height": 1000
        },
        "id": "Vkcyvvm7hO9b",
        "outputId": "edc80feb-7458-44f7-b85d-25edf187e7ed"
      },
      "outputs": [
        {
          "data": {
            "image/png": "[encoded data removed]",
            "text/plain": [
              "<Figure size 800x600 with 1 Axes>"
            ]
          },
          "metadata": {},
          "output_type": "display_data"
        },
        {
          "data": {
            "image/png": "[encoded data removed]",
            "text/plain": [
              "<Figure size 800x600 with 1 Axes>"
            ]
          },
          "metadata": {},
          "output_type": "display_data"
        }
      ],
      "source": [
        "from sklearn.metrics import roc_curve, precision_recall_curve, auc\n",
        "import matplotlib.pyplot as plt\n",
        "\n",
        "# Compute ROC curve and ROC area for the positive class\n",
        "fpr, tpr, _ = roc_curve(y_test, y_pred_proba_ovs[:,1])\n",
        "roc_auc = auc(fpr, tpr)\n",
        "\n",
        "# Compute Precision-Recall curve and area for the positive class\n",
        "precision, recall, _ = precision_recall_curve(y_test, y_pred_proba_ovs[:,1])\n",
        "pr_auc = auc(recall, precision)\n",
        "\n",
        "# Plot ROC curve\n",
        "plt.figure(figsize=(8, 6))\n",
        "plt.plot(fpr, tpr, color='blue', lw=2, label='ROC curve (area = %0.2f)' % roc_auc)\n",
        "plt.plot([0, 1], [0, 1], color='gray', linestyle='--')\n",
        "plt.xlim([0.0, 1.0])\n",
        "plt.ylim([0.0, 1.05])\n",
        "plt.xlabel('False Positive Rate')\n",
        "plt.ylabel('True Positive Rate')\n",
        "plt.title('Receiver Operating Characteristic (ROC) Curve')\n",
        "plt.legend(loc='lower right')\n",
        "\n",
        "# Plot Precision-Recall curve\n",
        "plt.figure(figsize=(8, 6))\n",
        "plt.plot(recall, precision, color='red', lw=2, label='Precision-Recall curve (area = %0.2f)' % pr_auc)\n",
        "plt.xlim([0.0, 1.0])\n",
        "plt.ylim([0.0, 1.05])\n",
        "plt.xlabel('Recall')\n",
        "plt.ylabel('Precision')\n",
        "plt.title('Precision-Recall Curve')\n",
        "plt.legend(loc='lower left')\n",
        "\n",
        "plt.show()\n"
      ]
    },
    {
      "cell_type": "markdown",
      "metadata": {
        "id": "LBS5N7Z-BafH"
      },
      "source": [
        "https://www.kaggle.com/code/eisgandar/oversampling-methods-on-unbalanced-datasets"
      ]
    }
  ],
  "metadata": {
    "colab": {
      "provenance": []
    },
    "kernelspec": {
      "display_name": "Python 3",
      "name": "python3"
    },
    "language_info": {
      "name": "python"
    }
  },
  "nbformat": 4,
  "nbformat_minor": 0
}
