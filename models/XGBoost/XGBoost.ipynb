{
  "nbformat": 4,
  "nbformat_minor": 0,
  "metadata": {
    "colab": {
      "provenance": []
    },
    "kernelspec": {
      "name": "python3",
      "display_name": "Python 3"
    },
    "language_info": {
      "name": "python"
    }
  },
  "cells": [
    {
      "cell_type": "code",
      "execution_count": null,
      "metadata": {
        "id": "f-e_9heLsAsx"
      },
      "outputs": [],
      "source": [
        "from google.colab import files\n",
        "uploaded = files.upload()"
      ]
    },
    {
      "cell_type": "code",
      "source": [
        "!pip install category_encoders"
      ],
      "metadata": {
        "id": "xdl-BCGN6IZ1"
      },
      "execution_count": null,
      "outputs": []
    },
    {
      "cell_type": "code",
      "source": [
        "!pip install feature-engine"
      ],
      "metadata": {
        "id": "DQQLYs6PC5EU"
      },
      "execution_count": null,
      "outputs": []
    },
    {
      "cell_type": "code",
      "source": [
        "import pandas as pd\n",
        "import numpy as np\n",
        "from category_encoders import TargetEncoder\n",
        "from category_encoders import HashingEncoder\n",
        "import seaborn as sns\n",
        "from sklearn.model_selection import train_test_split\n",
        "from sklearn.metrics import classification_report, roc_auc_score, precision_score, confusion_matrix\n",
        "from sklearn.ensemble import RandomForestClassifier, AdaBoostClassifier, VotingClassifier, BaggingClassifier\n",
        "from sklearn.pipeline import Pipeline\n",
        "from sklearn.preprocessing import StandardScaler, RobustScaler\n",
        "from feature_engine.encoding import CountFrequencyEncoder, MeanEncoder, RareLabelEncoder, OrdinalEncoder\n"
      ],
      "metadata": {
        "id": "3T504ma3sURu"
      },
      "execution_count": 129,
      "outputs": []
    },
    {
      "cell_type": "code",
      "source": [
        "!pip install imbalanced-learn"
      ],
      "metadata": {
        "id": "Mb3ntqVzDbza"
      },
      "execution_count": null,
      "outputs": []
    },
    {
      "cell_type": "code",
      "source": [
        "!pip uninstall scikit-learn --yes\n",
        "!pip uninstall imblearn --yes\n",
        "!pip install scikit-learn==1.2.2\n",
        "!pip install imblearn"
      ],
      "metadata": {
        "id": "_zcDoKIUKGL7"
      },
      "execution_count": null,
      "outputs": []
    },
    {
      "cell_type": "code",
      "source": [
        "from imblearn.over_sampling import RandomOverSampler, SMOTE, BorderlineSMOTE, SVMSMOTE, ADASYN"
      ],
      "metadata": {
        "id": "trO5QoCxOT6m"
      },
      "execution_count": 1,
      "outputs": []
    },
    {
      "cell_type": "code",
      "source": [
        "data = pd.read_csv('fraud_test.csv')\n"
      ],
      "metadata": {
        "id": "tm-kngHCtNTJ"
      },
      "execution_count": 130,
      "outputs": []
    },
    {
      "cell_type": "code",
      "source": [
        "y = data[\"is_fraud\"]\n",
        "X = data.drop(['is_fraud'],axis=1)"
      ],
      "metadata": {
        "id": "MaYHUJ7HDpd2"
      },
      "execution_count": 131,
      "outputs": []
    },
    {
      "cell_type": "code",
      "source": [
        "#Modify columns\n",
        "X_used = X.drop(['Unnamed: 0','street','city','state','cc_num', 'unix_time', 'trans_num'], axis=1)\n",
        "X_used[['date', 'time']] = X_used['trans_date_trans_time'].str.split(' ', expand=True)\n",
        "X_used[['day', 'month', 'year']] = X_used['date'].str.split('/', expand=True)\n",
        "X_used['time'] = X_used['time'].apply(lambda x: x.split(':')[0])\n",
        "X_used['dob'] = X_used['dob'].apply(lambda x: x.split('/')[-1])\n",
        "X_used[\"gender\"] = X_used[\"gender\"].replace({'M': 0, 'F': 1})\n",
        "X_used = X_used.drop(['trans_date_trans_time','date'], axis=1)"
      ],
      "metadata": {
        "colab": {
          "base_uri": "https://localhost:8080/"
        },
        "id": "crhPxJiRt3oH",
        "outputId": "62c167c3-11fc-4978-c8ed-9c19fb2fac7a"
      },
      "execution_count": 132,
      "outputs": [
        {
          "output_type": "stream",
          "name": "stderr",
          "text": [
            "<ipython-input-132-ee95265836cb>:7: FutureWarning: Downcasting behavior in `replace` is deprecated and will be removed in a future version. To retain the old behavior, explicitly call `result.infer_objects(copy=False)`. To opt-in to the future behavior, set `pd.set_option('future.no_silent_downcasting', True)`\n",
            "  X_used[\"gender\"] = X_used[\"gender\"].replace({'M': 0, 'F': 1})\n"
          ]
        }
      ]
    },
    {
      "cell_type": "code",
      "source": [
        "print(X_used)"
      ],
      "metadata": {
        "id": "YXgM3XAdGBCa"
      },
      "execution_count": null,
      "outputs": []
    },
    {
      "cell_type": "code",
      "source": [
        "used_data = X_used.copy()\n",
        "used_data['is_fraud'] = y"
      ],
      "metadata": {
        "id": "G9yjBjMPFhxY"
      },
      "execution_count": 133,
      "outputs": []
    },
    {
      "cell_type": "code",
      "source": [
        "print(used_data)"
      ],
      "metadata": {
        "id": "cjY0MFHtF4m3"
      },
      "execution_count": null,
      "outputs": []
    },
    {
      "cell_type": "code",
      "source": [
        "features = used_data.select_dtypes(np.object_).columns\n",
        "cat_features = []\n",
        "for feature in features:\n",
        "    used_data[feature] = used_data[feature].astype('category')\n",
        "    cat_features.append(feature)"
      ],
      "metadata": {
        "id": "-QYPYHy8Hs04"
      },
      "execution_count": 134,
      "outputs": []
    },
    {
      "cell_type": "code",
      "source": [
        "X_train, X_test, y_train, y_test = train_test_split(used_data.drop('is_fraud', axis = 1),\n",
        "                                                    used_data['is_fraud'],\n",
        "                                                    stratify = used_data['is_fraud'],\n",
        "                                                    test_size = 0.25)"
      ],
      "metadata": {
        "id": "F3uC4YoID4FG"
      },
      "execution_count": 135,
      "outputs": []
    },
    {
      "cell_type": "code",
      "source": [
        "train_data = X_train.copy()\n",
        "train_data['is_fraud'] = y_train"
      ],
      "metadata": {
        "id": "WuRYPZd2GlXn"
      },
      "execution_count": 136,
      "outputs": []
    },
    {
      "cell_type": "code",
      "source": [
        "#Show plot\n",
        "import matplotlib.pyplot as plt\n",
        "colors = [\"#0101DF\", \"#DF0101\"]\n",
        "sns.countplot(x='is_fraud', data=train_data, palette=colors)\n",
        "plt.title('Class Distributions \\n (0: No Fraud || 1: Fraud)', fontsize=14)"
      ],
      "metadata": {
        "id": "NSSqYzcdGcJd",
        "colab": {
          "base_uri": "https://localhost:8080/",
          "height": 689
        },
        "outputId": "ca2d55d6-12bf-4d39-bd5d-20a095b825bc"
      },
      "execution_count": 137,
      "outputs": [
        {
          "output_type": "stream",
          "name": "stderr",
          "text": [
            "<ipython-input-137-69342c6395cb>:4: FutureWarning: \n",
            "\n",
            "Passing `palette` without assigning `hue` is deprecated and will be removed in v0.14.0. Assign the `x` variable to `hue` and set `legend=False` for the same effect.\n",
            "\n",
            "  sns.countplot(x='is_fraud', data=train_data, palette=colors)\n",
            "/usr/local/lib/python3.10/dist-packages/seaborn/_base.py:949: FutureWarning: When grouping with a length-1 list-like, you will need to pass a length-1 tuple to get_group in a future version of pandas. Pass `(name,)` instead of `name` to silence this warning.\n",
            "  data_subset = grouped_data.get_group(pd_key)\n",
            "/usr/local/lib/python3.10/dist-packages/seaborn/_base.py:949: FutureWarning: When grouping with a length-1 list-like, you will need to pass a length-1 tuple to get_group in a future version of pandas. Pass `(name,)` instead of `name` to silence this warning.\n",
            "  data_subset = grouped_data.get_group(pd_key)\n"
          ]
        },
        {
          "output_type": "execute_result",
          "data": {
            "text/plain": [
              "Text(0.5, 1.0, 'Class Distributions \\n (0: No Fraud || 1: Fraud)')"
            ]
          },
          "metadata": {},
          "execution_count": 137
        },
        {
          "output_type": "display_data",
          "data": {
            "text/plain": [
              "<Figure size 640x480 with 1 Axes>"
            ],
            "image/png": "[encoded data removed]"
          },
          "metadata": {}
        }
      ]
    },
    {
      "cell_type": "code",
      "source": [
        "print(train_data.dtypes)"
      ],
      "metadata": {
        "id": "1K7YRZSmIxhL"
      },
      "execution_count": null,
      "outputs": []
    },
    {
      "cell_type": "code",
      "source": [
        "target_encoder = TargetEncoder()\n",
        "train_data[cat_features] = target_encoder.fit_transform(train_data[cat_features], train_data[\"is_fraud\"])"
      ],
      "metadata": {
        "id": "z7oe1A1sG9Rw"
      },
      "execution_count": 138,
      "outputs": []
    },
    {
      "cell_type": "code",
      "source": [
        "train_data.head()"
      ],
      "metadata": {
        "id": "Y2GHujD8HKhO",
        "colab": {
          "base_uri": "https://localhost:8080/",
          "height": 313
        },
        "outputId": "6fc0eb5d-2f59-44cd-d35b-23e5da588ef1"
      },
      "execution_count": 118,
      "outputs": [
        {
          "output_type": "execute_result",
          "data": {
            "text/plain": [
              "            merchant  category    amt     first      last  gender    zip  \\\n",
              "223536  4.454653e-17  0.002226   2.08  0.006775  0.006437       0  21750   \n",
              "6891    1.828154e-03  0.002770  64.59  0.004649  0.014085       0  14425   \n",
              "400492  3.527337e-03  0.002770  41.16  0.003096  0.000000       1  81642   \n",
              "48245   2.777778e-03  0.002226   5.70  0.002486  0.002377       1  45622   \n",
              "326833  1.984127e-03  0.000909  61.83  0.000000  0.000000       1  15829   \n",
              "\n",
              "            lat      long  city_pop       job       dob  merch_lat  \\\n",
              "223536  39.6991  -78.1762      3766  0.006572  0.002982  38.859445   \n",
              "6891    42.9580  -77.3083     10717  0.006518  0.007775  42.089070   \n",
              "400492  39.3199 -106.6596        61  0.002174  0.000000  39.130984   \n",
              "48245   39.3543  -82.5030       321  0.000000  0.001813  40.287033   \n",
              "326833  41.1762  -79.1976      1274  0.000000  0.003824  41.680498   \n",
              "\n",
              "        merch_long      time       day     month      year  is_fraud  \n",
              "223536  -77.237519  0.000845  0.006398  0.004861  0.003858         0  \n",
              "6891    -77.518054  0.000881  0.002937  0.004917  0.003858         0  \n",
              "400492 -106.671276  0.000881  0.005545  0.003814  0.003858         0  \n",
              "48245   -83.376057  0.000495  0.005175  0.003732  0.003858         0  \n",
              "326833  -78.745804  0.000845  0.004980  0.005554  0.003858         0  "
            ],
            "text/html": [
              "\n",
              "  <div id=\"df-75b0be83-6a2e-48a2-aa39-efbbae782ef8\" class=\"colab-df-container\">\n",
              "    <div>\n",
              "<style scoped>\n",
              "    .dataframe tbody tr th:only-of-type {\n",
              "        vertical-align: middle;\n",
              "    }\n",
              "\n",
              "    .dataframe tbody tr th {\n",
              "        vertical-align: top;\n",
              "    }\n",
              "\n",
              "    .dataframe thead th {\n",
              "        text-align: right;\n",
              "    }\n",
              "</style>\n",
              "<table border=\"1\" class=\"dataframe\">\n",
              "  <thead>\n",
              "    <tr style=\"text-align: right;\">\n",
              "      <th></th>\n",
              "      <th>merchant</th>\n",
              "      <th>category</th>\n",
              "      <th>amt</th>\n",
              "      <th>first</th>\n",
              "      <th>last</th>\n",
              "      <th>gender</th>\n",
              "      <th>zip</th>\n",
              "      <th>lat</th>\n",
              "      <th>long</th>\n",
              "      <th>city_pop</th>\n",
              "      <th>job</th>\n",
              "      <th>dob</th>\n",
              "      <th>merch_lat</th>\n",
              "      <th>merch_long</th>\n",
              "      <th>time</th>\n",
              "      <th>day</th>\n",
              "      <th>month</th>\n",
              "      <th>year</th>\n",
              "      <th>is_fraud</th>\n",
              "    </tr>\n",
              "  </thead>\n",
              "  <tbody>\n",
              "    <tr>\n",
              "      <th>223536</th>\n",
              "      <td>4.454653e-17</td>\n",
              "      <td>0.002226</td>\n",
              "      <td>2.08</td>\n",
              "      <td>0.006775</td>\n",
              "      <td>0.006437</td>\n",
              "      <td>0</td>\n",
              "      <td>21750</td>\n",
              "      <td>39.6991</td>\n",
              "      <td>-78.1762</td>\n",
              "      <td>3766</td>\n",
              "      <td>0.006572</td>\n",
              "      <td>0.002982</td>\n",
              "      <td>38.859445</td>\n",
              "      <td>-77.237519</td>\n",
              "      <td>0.000845</td>\n",
              "      <td>0.006398</td>\n",
              "      <td>0.004861</td>\n",
              "      <td>0.003858</td>\n",
              "      <td>0</td>\n",
              "    </tr>\n",
              "    <tr>\n",
              "      <th>6891</th>\n",
              "      <td>1.828154e-03</td>\n",
              "      <td>0.002770</td>\n",
              "      <td>64.59</td>\n",
              "      <td>0.004649</td>\n",
              "      <td>0.014085</td>\n",
              "      <td>0</td>\n",
              "      <td>14425</td>\n",
              "      <td>42.9580</td>\n",
              "      <td>-77.3083</td>\n",
              "      <td>10717</td>\n",
              "      <td>0.006518</td>\n",
              "      <td>0.007775</td>\n",
              "      <td>42.089070</td>\n",
              "      <td>-77.518054</td>\n",
              "      <td>0.000881</td>\n",
              "      <td>0.002937</td>\n",
              "      <td>0.004917</td>\n",
              "      <td>0.003858</td>\n",
              "      <td>0</td>\n",
              "    </tr>\n",
              "    <tr>\n",
              "      <th>400492</th>\n",
              "      <td>3.527337e-03</td>\n",
              "      <td>0.002770</td>\n",
              "      <td>41.16</td>\n",
              "      <td>0.003096</td>\n",
              "      <td>0.000000</td>\n",
              "      <td>1</td>\n",
              "      <td>81642</td>\n",
              "      <td>39.3199</td>\n",
              "      <td>-106.6596</td>\n",
              "      <td>61</td>\n",
              "      <td>0.002174</td>\n",
              "      <td>0.000000</td>\n",
              "      <td>39.130984</td>\n",
              "      <td>-106.671276</td>\n",
              "      <td>0.000881</td>\n",
              "      <td>0.005545</td>\n",
              "      <td>0.003814</td>\n",
              "      <td>0.003858</td>\n",
              "      <td>0</td>\n",
              "    </tr>\n",
              "    <tr>\n",
              "      <th>48245</th>\n",
              "      <td>2.777778e-03</td>\n",
              "      <td>0.002226</td>\n",
              "      <td>5.70</td>\n",
              "      <td>0.002486</td>\n",
              "      <td>0.002377</td>\n",
              "      <td>1</td>\n",
              "      <td>45622</td>\n",
              "      <td>39.3543</td>\n",
              "      <td>-82.5030</td>\n",
              "      <td>321</td>\n",
              "      <td>0.000000</td>\n",
              "      <td>0.001813</td>\n",
              "      <td>40.287033</td>\n",
              "      <td>-83.376057</td>\n",
              "      <td>0.000495</td>\n",
              "      <td>0.005175</td>\n",
              "      <td>0.003732</td>\n",
              "      <td>0.003858</td>\n",
              "      <td>0</td>\n",
              "    </tr>\n",
              "    <tr>\n",
              "      <th>326833</th>\n",
              "      <td>1.984127e-03</td>\n",
              "      <td>0.000909</td>\n",
              "      <td>61.83</td>\n",
              "      <td>0.000000</td>\n",
              "      <td>0.000000</td>\n",
              "      <td>1</td>\n",
              "      <td>15829</td>\n",
              "      <td>41.1762</td>\n",
              "      <td>-79.1976</td>\n",
              "      <td>1274</td>\n",
              "      <td>0.000000</td>\n",
              "      <td>0.003824</td>\n",
              "      <td>41.680498</td>\n",
              "      <td>-78.745804</td>\n",
              "      <td>0.000845</td>\n",
              "      <td>0.004980</td>\n",
              "      <td>0.005554</td>\n",
              "      <td>0.003858</td>\n",
              "      <td>0</td>\n",
              "    </tr>\n",
              "  </tbody>\n",
              "</table>\n",
              "</div>\n",
              "    <div class=\"colab-df-buttons\">\n",
              "\n",
              "  <div class=\"colab-df-container\">\n",
              "    <button class=\"colab-df-convert\" onclick=\"convertToInteractive('df-75b0be83-6a2e-48a2-aa39-efbbae782ef8')\"\n",
              "            title=\"Convert this dataframe to an interactive table.\"\n",
              "            style=\"display:none;\">\n",
              "\n",
              "  <svg xmlns=\"http://www.w3.org/2000/svg\" height=\"24px\" viewBox=\"0 -960 960 960\">\n",
              "    <path d=\"M120-120v-720h720v720H120Zm60-500h600v-160H180v160Zm220 220h160v-160H400v160Zm0 220h160v-160H400v160ZM180-400h160v-160H180v160Zm440 0h160v-160H620v160ZM180-180h160v-160H180v160Zm440 0h160v-160H620v160Z\"/>\n",
              "  </svg>\n",
              "    </button>\n",
              "\n",
              "  <style>\n",
              "    .colab-df-container {\n",
              "      display:flex;\n",
              "      gap: 12px;\n",
              "    }\n",
              "\n",
              "    .colab-df-convert {\n",
              "      background-color: #E8F0FE;\n",
              "      border: none;\n",
              "      border-radius: 50%;\n",
              "      cursor: pointer;\n",
              "      display: none;\n",
              "      fill: #1967D2;\n",
              "      height: 32px;\n",
              "      padding: 0 0 0 0;\n",
              "      width: 32px;\n",
              "    }\n",
              "\n",
              "    .colab-df-convert:hover {\n",
              "      background-color: #E2EBFA;\n",
              "      box-shadow: 0px 1px 2px rgba(60, 64, 67, 0.3), 0px 1px 3px 1px rgba(60, 64, 67, 0.15);\n",
              "      fill: #174EA6;\n",
              "    }\n",
              "\n",
              "    .colab-df-buttons div {\n",
              "      margin-bottom: 4px;\n",
              "    }\n",
              "\n",
              "    [theme=dark] .colab-df-convert {\n",
              "      background-color: #3B4455;\n",
              "      fill: #D2E3FC;\n",
              "    }\n",
              "\n",
              "    [theme=dark] .colab-df-convert:hover {\n",
              "      background-color: #434B5C;\n",
              "      box-shadow: 0px 1px 3px 1px rgba(0, 0, 0, 0.15);\n",
              "      filter: drop-shadow(0px 1px 2px rgba(0, 0, 0, 0.3));\n",
              "      fill: #FFFFFF;\n",
              "    }\n",
              "  </style>\n",
              "\n",
              "    <script>\n",
              "      const buttonEl =\n",
              "        document.querySelector('#df-75b0be83-6a2e-48a2-aa39-efbbae782ef8 button.colab-df-convert');\n",
              "      buttonEl.style.display =\n",
              "        google.colab.kernel.accessAllowed ? 'block' : 'none';\n",
              "\n",
              "      async function convertToInteractive(key) {\n",
              "        const element = document.querySelector('#df-75b0be83-6a2e-48a2-aa39-efbbae782ef8');\n",
              "        const dataTable =\n",
              "          await google.colab.kernel.invokeFunction('convertToInteractive',\n",
              "                                                    [key], {});\n",
              "        if (!dataTable) return;\n",
              "\n",
              "        const docLinkHtml = 'Like what you see? Visit the ' +\n",
              "          '<a target=\"_blank\" href=https://colab.research.google.com/notebooks/data_table.ipynb>data table notebook</a>'\n",
              "          + ' to learn more about interactive tables.';\n",
              "        element.innerHTML = '';\n",
              "        dataTable['output_type'] = 'display_data';\n",
              "        await google.colab.output.renderOutput(dataTable, element);\n",
              "        const docLink = document.createElement('div');\n",
              "        docLink.innerHTML = docLinkHtml;\n",
              "        element.appendChild(docLink);\n",
              "      }\n",
              "    </script>\n",
              "  </div>\n",
              "\n",
              "\n",
              "<div id=\"df-c48cf03e-bf4e-4761-ad53-5d3e1b9c886a\">\n",
              "  <button class=\"colab-df-quickchart\" onclick=\"quickchart('df-c48cf03e-bf4e-4761-ad53-5d3e1b9c886a')\"\n",
              "            title=\"Suggest charts\"\n",
              "            style=\"display:none;\">\n",
              "\n",
              "<svg xmlns=\"http://www.w3.org/2000/svg\" height=\"24px\"viewBox=\"0 0 24 24\"\n",
              "     width=\"24px\">\n",
              "    <g>\n",
              "        <path d=\"M19 3H5c-1.1 0-2 .9-2 2v14c0 1.1.9 2 2 2h14c1.1 0 2-.9 2-2V5c0-1.1-.9-2-2-2zM9 17H7v-7h2v7zm4 0h-2V7h2v10zm4 0h-2v-4h2v4z\"/>\n",
              "    </g>\n",
              "</svg>\n",
              "  </button>\n",
              "\n",
              "<style>\n",
              "  .colab-df-quickchart {\n",
              "      --bg-color: #E8F0FE;\n",
              "      --fill-color: #1967D2;\n",
              "      --hover-bg-color: #E2EBFA;\n",
              "      --hover-fill-color: #174EA6;\n",
              "      --disabled-fill-color: #AAA;\n",
              "      --disabled-bg-color: #DDD;\n",
              "  }\n",
              "\n",
              "  [theme=dark] .colab-df-quickchart {\n",
              "      --bg-color: #3B4455;\n",
              "      --fill-color: #D2E3FC;\n",
              "      --hover-bg-color: #434B5C;\n",
              "      --hover-fill-color: #FFFFFF;\n",
              "      --disabled-bg-color: #3B4455;\n",
              "      --disabled-fill-color: #666;\n",
              "  }\n",
              "\n",
              "  .colab-df-quickchart {\n",
              "    background-color: var(--bg-color);\n",
              "    border: none;\n",
              "    border-radius: 50%;\n",
              "    cursor: pointer;\n",
              "    display: none;\n",
              "    fill: var(--fill-color);\n",
              "    height: 32px;\n",
              "    padding: 0;\n",
              "    width: 32px;\n",
              "  }\n",
              "\n",
              "  .colab-df-quickchart:hover {\n",
              "    background-color: var(--hover-bg-color);\n",
              "    box-shadow: 0 1px 2px rgba(60, 64, 67, 0.3), 0 1px 3px 1px rgba(60, 64, 67, 0.15);\n",
              "    fill: var(--button-hover-fill-color);\n",
              "  }\n",
              "\n",
              "  .colab-df-quickchart-complete:disabled,\n",
              "  .colab-df-quickchart-complete:disabled:hover {\n",
              "    background-color: var(--disabled-bg-color);\n",
              "    fill: var(--disabled-fill-color);\n",
              "    box-shadow: none;\n",
              "  }\n",
              "\n",
              "  .colab-df-spinner {\n",
              "    border: 2px solid var(--fill-color);\n",
              "    border-color: transparent;\n",
              "    border-bottom-color: var(--fill-color);\n",
              "    animation:\n",
              "      spin 1s steps(1) infinite;\n",
              "  }\n",
              "\n",
              "  @keyframes spin {\n",
              "    0% {\n",
              "      border-color: transparent;\n",
              "      border-bottom-color: var(--fill-color);\n",
              "      border-left-color: var(--fill-color);\n",
              "    }\n",
              "    20% {\n",
              "      border-color: transparent;\n",
              "      border-left-color: var(--fill-color);\n",
              "      border-top-color: var(--fill-color);\n",
              "    }\n",
              "    30% {\n",
              "      border-color: transparent;\n",
              "      border-left-color: var(--fill-color);\n",
              "      border-top-color: var(--fill-color);\n",
              "      border-right-color: var(--fill-color);\n",
              "    }\n",
              "    40% {\n",
              "      border-color: transparent;\n",
              "      border-right-color: var(--fill-color);\n",
              "      border-top-color: var(--fill-color);\n",
              "    }\n",
              "    60% {\n",
              "      border-color: transparent;\n",
              "      border-right-color: var(--fill-color);\n",
              "    }\n",
              "    80% {\n",
              "      border-color: transparent;\n",
              "      border-right-color: var(--fill-color);\n",
              "      border-bottom-color: var(--fill-color);\n",
              "    }\n",
              "    90% {\n",
              "      border-color: transparent;\n",
              "      border-bottom-color: var(--fill-color);\n",
              "    }\n",
              "  }\n",
              "</style>\n",
              "\n",
              "  <script>\n",
              "    async function quickchart(key) {\n",
              "      const quickchartButtonEl =\n",
              "        document.querySelector('#' + key + ' button');\n",
              "      quickchartButtonEl.disabled = true;  // To prevent multiple clicks.\n",
              "      quickchartButtonEl.classList.add('colab-df-spinner');\n",
              "      try {\n",
              "        const charts = await google.colab.kernel.invokeFunction(\n",
              "            'suggestCharts', [key], {});\n",
              "      } catch (error) {\n",
              "        console.error('Error during call to suggestCharts:', error);\n",
              "      }\n",
              "      quickchartButtonEl.classList.remove('colab-df-spinner');\n",
              "      quickchartButtonEl.classList.add('colab-df-quickchart-complete');\n",
              "    }\n",
              "    (() => {\n",
              "      let quickchartButtonEl =\n",
              "        document.querySelector('#df-c48cf03e-bf4e-4761-ad53-5d3e1b9c886a button');\n",
              "      quickchartButtonEl.style.display =\n",
              "        google.colab.kernel.accessAllowed ? 'block' : 'none';\n",
              "    })();\n",
              "  </script>\n",
              "</div>\n",
              "    </div>\n",
              "  </div>\n"
            ],
            "application/vnd.google.colaboratory.intrinsic+json": {
              "type": "dataframe",
              "variable_name": "train_data"
            }
          },
          "metadata": {},
          "execution_count": 118
        }
      ]
    },
    {
      "cell_type": "code",
      "source": [
        "X_train = train_data.drop('is_fraud',axis=1)\n",
        "y_train = train_data[\"is_fraud\"]"
      ],
      "metadata": {
        "id": "v6HtVlddjETu"
      },
      "execution_count": 139,
      "outputs": []
    },
    {
      "cell_type": "code",
      "source": [
        "X_test[cat_features] = target_encoder.transform(X_test[cat_features])"
      ],
      "metadata": {
        "id": "VvqXAB7qQ_2t"
      },
      "execution_count": 140,
      "outputs": []
    },
    {
      "cell_type": "code",
      "source": [
        "print(X_test)"
      ],
      "metadata": {
        "id": "LBXFKjh7wZuE"
      },
      "execution_count": null,
      "outputs": []
    },
    {
      "cell_type": "code",
      "source": [
        "#Undersampling\n",
        "def undersample(train_data):\n",
        "  train_data = train_data.sample(frac=1)\n",
        "  fraud_data = train_data.loc[train_data['is_fraud'] == 1]\n",
        "  non_fraud_data = train_data.loc[train_data['is_fraud'] == 0][:1500]\n",
        "  normal_distributed_data = pd.concat([fraud_data, non_fraud_data])\n",
        "  new_data = normal_distributed_data.sample(frac=1, random_state=42)\n",
        "  return new_data\n"
      ],
      "metadata": {
        "id": "MzeormnzyjTP"
      },
      "execution_count": 141,
      "outputs": []
    },
    {
      "cell_type": "code",
      "source": [
        "from sklearn.model_selection import train_test_split\n",
        "from sklearn.metrics import roc_auc_score\n",
        "from sklearn.metrics import precision_score, recall_score\n",
        "from sklearn.metrics import roc_auc_score, precision_recall_curve, auc,roc_curve\n",
        "import xgboost as xgb\n",
        "#Run XGBoost\n",
        "balanced_datas = []\n",
        "y_predict_under = []\n",
        "y_predict_proba_under = []\n",
        "score = 0\n",
        "roc_score = 0\n",
        "pr_score = 0\n",
        "for i in range(10):\n",
        "  balanced_datas.append(undersample(train_data))\n",
        "\n",
        "import xgboost as xgb\n",
        "from sklearn.model_selection import GridSearchCV\n",
        "\n",
        "xgb_model = xgb.XGBClassifier(n_estimators=100,\n",
        "                              max_depth=3,\n",
        "                              learning_rate=0.1)\n",
        "\n",
        "for data in balanced_datas:\n",
        "  X_tr_under = data.drop(columns=['is_fraud'])\n",
        "  y_tr_under = data['is_fraud']\n",
        "  xgb_model.fit(X_tr_under, y_tr_under)\n",
        "  y_pred_proba = xgb_model.predict_proba(X_test)\n",
        "  y_pred = xgb_model.predict(X_test)\n",
        "  roc_auc = roc_auc_score(y_test, y_pred_proba[:,1])\n",
        "  precision, recall, _ = precision_recall_curve(y_test, y_pred_proba[:,1])\n",
        "  pr_auc = auc(recall, precision)\n",
        "  if(score<roc_auc+pr_auc):\n",
        "    score = roc_auc+pr_auc\n",
        "    roc_score = roc_auc\n",
        "    pr_score = pr_auc\n",
        "    y_predict_under = y_pred\n",
        "    y_predict_proba_under = y_pred_proba\n",
        "\n",
        "print(f\"roc_auc: {roc_score} pr_recall: {pr_score}\")\n"
      ],
      "metadata": {
        "id": "da_ArRFBSaFH",
        "colab": {
          "base_uri": "https://localhost:8080/"
        },
        "outputId": "da5a04d9-a71b-4eb6-ed3a-d8c0e76ae6eb"
      },
      "execution_count": 142,
      "outputs": [
        {
          "output_type": "stream",
          "name": "stdout",
          "text": [
            "roc_auc: 0.9865960038061351 pr_recall: 0.6433444369412487\n"
          ]
        }
      ]
    },
    {
      "cell_type": "code",
      "source": [
        "ovs = RandomOverSampler(sampling_strategy = \"auto\", random_state = 11)\n",
        "x_rovs, y_rovs = ovs.fit_resample(X_train, y_train)\n",
        "\n",
        "xgb_model.fit(x_rovs, y_rovs)\n",
        "y_pred_proba_ovs = xgb_model.predict_proba(X_test)\n",
        "y_pred_ovs = xgb_model.predict(X_test)\n",
        "fpr, tpr, _ = roc_curve(y_test, y_pred_proba_ovs[:,1])\n",
        "roc_auc = auc(fpr, tpr)\n",
        "\n",
        "# Compute Precision-Recall curve and area for the positive class\n",
        "precision, recall, _ = precision_recall_curve(y_test, y_pred_proba_ovs[:,1])\n",
        "pr_auc = auc(recall, precision)\n",
        "print(f\"roc_auc: {roc_auc} pr_recall: {pr_auc}\")"
      ],
      "metadata": {
        "colab": {
          "base_uri": "https://localhost:8080/"
        },
        "id": "J9ntxf66BdkQ",
        "outputId": "7f21cc2d-36e1-4b84-f39d-3dffd932a4f9"
      },
      "execution_count": 143,
      "outputs": [
        {
          "output_type": "stream",
          "name": "stdout",
          "text": [
            "roc_auc: 0.985575966972082 pr_recall: 0.709608341899121\n"
          ]
        }
      ]
    },
    {
      "cell_type": "code",
      "source": [
        "smovs = SMOTE(sampling_strategy = \"auto\", random_state = 11, k_neighbors = 5, n_jobs = -1)\n",
        "x_smote, y_smote = smovs.fit_resample(X_train, y_train)\n",
        "\n",
        "xgb_model.fit(x_smote, y_smote)\n",
        "y_pred_proba_smovs = xgb_model.predict_proba(X_test)\n",
        "y_pred_smovs = xgb_model.predict(X_test)\n",
        "fpr, tpr, _ = roc_curve(y_test, y_pred_proba_smovs[:,1])\n",
        "roc_auc = auc(fpr, tpr)\n",
        "\n",
        "# Compute Precision-Recall curve and area for the positive class\n",
        "precision, recall, _ = precision_recall_curve(y_test, y_pred_proba_smovs[:,1])\n",
        "pr_auc = auc(recall, precision)\n",
        "print(f\"roc_auc: {roc_auc} pr_recall: {pr_auc}\")"
      ],
      "metadata": {
        "colab": {
          "base_uri": "https://localhost:8080/"
        },
        "id": "SSARfInYBlpV",
        "outputId": "e864e15d-c76b-45ab-b227-0242ae19d4f6"
      },
      "execution_count": 144,
      "outputs": [
        {
          "output_type": "stream",
          "name": "stderr",
          "text": [
            "/usr/local/lib/python3.10/dist-packages/imblearn/over_sampling/_smote/base.py:336: FutureWarning: The parameter `n_jobs` has been deprecated in 0.10 and will be removed in 0.12. You can pass an nearest neighbors estimator where `n_jobs` is already set instead.\n",
            "  warnings.warn(\n"
          ]
        },
        {
          "output_type": "stream",
          "name": "stdout",
          "text": [
            "roc_auc: 0.9813910665288527 pr_recall: 0.6504632388948539\n"
          ]
        }
      ]
    },
    {
      "cell_type": "code",
      "source": [
        "border_smovs = BorderlineSMOTE()\n",
        "x_border, y_border = border_smovs.fit_resample(X_train, y_train)\n",
        "\n",
        "xgb_model.fit(x_border, y_border)\n",
        "y_pred_proba_border = xgb_model.predict_proba(X_test)\n",
        "y_pred_border = xgb_model.predict(X_test)\n",
        "fpr, tpr, _ = roc_curve(y_test, y_pred_proba_border[:,1])\n",
        "roc_auc = auc(fpr, tpr)\n",
        "\n",
        "# Compute Precision-Recall curve and area for the positive class\n",
        "precision, recall, _ = precision_recall_curve(y_test, y_pred_proba_border[:,1])\n",
        "pr_auc = auc(recall, precision)\n",
        "print(f\"roc_auc: {roc_auc} pr_recall: {pr_auc}\")"
      ],
      "metadata": {
        "colab": {
          "base_uri": "https://localhost:8080/"
        },
        "id": "Az9JovAGBqo0",
        "outputId": "b68d87c7-592c-44b1-aa96-d805ad56e6c6"
      },
      "execution_count": 145,
      "outputs": [
        {
          "output_type": "stream",
          "name": "stdout",
          "text": [
            "roc_auc: 0.9801638893736012 pr_recall: 0.6620727455510241\n"
          ]
        }
      ]
    },
    {
      "cell_type": "code",
      "source": [
        "b_svm = SVMSMOTE()\n",
        "x_svm, y_svm = b_svm.fit_resample(X_train, y_train)\n",
        "\n",
        "xgb_model.fit(x_svm, y_svm)\n",
        "y_pred_proba_svm = xgb_model.predict_proba(X_test)\n",
        "y_pred_svm = xgb_model.predict(X_test)\n",
        "fpr, tpr, _ = roc_curve(y_test, y_pred_proba_svm[:,1])\n",
        "roc_auc = auc(fpr, tpr)\n",
        "\n",
        "# Compute Precision-Recall curve and area for the positive class\n",
        "precision, recall, _ = precision_recall_curve(y_test, y_pred_proba_svm[:,1])\n",
        "pr_auc = auc(recall, precision)\n",
        "print(f\"roc_auc: {roc_auc} pr_recall: {pr_auc}\")"
      ],
      "metadata": {
        "colab": {
          "base_uri": "https://localhost:8080/"
        },
        "id": "aucLXIquBt3R",
        "outputId": "7d7004da-1a55-4b71-b5f7-86bb829494f2"
      },
      "execution_count": 146,
      "outputs": [
        {
          "output_type": "stream",
          "name": "stdout",
          "text": [
            "roc_auc: 0.9805823895285771 pr_recall: 0.6698212496214213\n"
          ]
        }
      ]
    },
    {
      "cell_type": "code",
      "source": [
        "cm = confusion_matrix(y_test, y_pred_ovs)\n",
        "plt.figure(figsize=(8, 6))\n",
        "sns.heatmap(cm, annot=True, fmt='d', cmap='Blues', cbar=False)\n",
        "plt.xlabel('Predicted labels')\n",
        "plt.ylabel('True labels')\n",
        "plt.title('Confusion Matrix')\n",
        "plt.show()"
      ],
      "metadata": {
        "colab": {
          "base_uri": "https://localhost:8080/",
          "height": 564
        },
        "id": "4oNcW_0mgM41",
        "outputId": "a29a7223-4dc5-493b-bc44-b7ec06b9384f"
      },
      "execution_count": 147,
      "outputs": [
        {
          "output_type": "display_data",
          "data": {
            "text/plain": [
              "<Figure size 800x600 with 1 Axes>"
            ],
            "image/png": "[encoded data removed]"
          },
          "metadata": {}
        }
      ]
    },
    {
      "cell_type": "code",
      "source": [
        "from sklearn.metrics import roc_curve, precision_recall_curve, auc\n",
        "import matplotlib.pyplot as plt\n",
        "\n",
        "# Compute ROC curve and ROC area for the positive class\n",
        "fpr, tpr, _ = roc_curve(y_test, y_pred_proba_ovs[:,1])\n",
        "roc_auc = auc(fpr, tpr)\n",
        "\n",
        "# Compute Precision-Recall curve and area for the positive class\n",
        "precision, recall, _ = precision_recall_curve(y_test, y_pred_proba_ovs[:,1])\n",
        "pr_auc = auc(recall, precision)\n",
        "\n",
        "# Plot ROC curve\n",
        "plt.figure(figsize=(8, 6))\n",
        "plt.plot(fpr, tpr, color='blue', lw=2, label='ROC curve (area = %0.2f)' % roc_auc)\n",
        "plt.plot([0, 1], [0, 1], color='gray', linestyle='--')\n",
        "plt.xlim([0.0, 1.0])\n",
        "plt.ylim([0.0, 1.05])\n",
        "plt.xlabel('False Positive Rate')\n",
        "plt.ylabel('True Positive Rate')\n",
        "plt.title('Receiver Operating Characteristic (ROC) Curve')\n",
        "plt.legend(loc='lower right')\n",
        "\n",
        "# Plot Precision-Recall curve\n",
        "plt.figure(figsize=(8, 6))\n",
        "plt.plot(recall, precision, color='red', lw=2, label='Precision-Recall curve (area = %0.2f)' % pr_auc)\n",
        "plt.xlim([0.0, 1.0])\n",
        "plt.ylim([0.0, 1.05])\n",
        "plt.xlabel('Recall')\n",
        "plt.ylabel('Precision')\n",
        "plt.title('Precision-Recall Curve')\n",
        "plt.legend(loc='lower left')\n",
        "\n",
        "plt.show()\n"
      ],
      "metadata": {
        "colab": {
          "base_uri": "https://localhost:8080/",
          "height": 1000
        },
        "id": "Vkcyvvm7hO9b",
        "outputId": "79eb70e2-6be3-4789-8ff5-57197e6972ec"
      },
      "execution_count": 148,
      "outputs": [
        {
          "output_type": "display_data",
          "data": {
            "text/plain": [
              "<Figure size 800x600 with 1 Axes>"
            ],
            "image/png": "[encoded data removed]"
          },
          "metadata": {}
        },
        {
          "output_type": "display_data",
          "data": {
            "text/plain": [
              "<Figure size 800x600 with 1 Axes>"
            ],
            "image/png": "[encoded data removed]"
          },
          "metadata": {}
        }
      ]
    },
    {
      "cell_type": "markdown",
      "source": [
        "https://www.kaggle.com/code/eisgandar/oversampling-methods-on-unbalanced-datasets"
      ],
      "metadata": {
        "id": "LBS5N7Z-BafH"
      }
    }
  ]
}