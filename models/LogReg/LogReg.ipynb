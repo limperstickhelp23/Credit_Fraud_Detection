{
  "nbformat": 4,
  "nbformat_minor": 0,
  "metadata": {
    "colab": {
      "provenance": []
    },
    "kernelspec": {
      "name": "python3",
      "display_name": "Python 3"
    },
    "language_info": {
      "name": "python"
    }
  },
  "cells": [
    {
      "cell_type": "code",
      "execution_count": null,
      "metadata": {
        "id": "f-e_9heLsAsx"
      },
      "outputs": [],
      "source": [
        "from google.colab import files\n",
        "uploaded = files.upload()"
      ]
    },
    {
      "cell_type": "code",
      "source": [
        "!pip install category_encoders"
      ],
      "metadata": {
        "id": "xdl-BCGN6IZ1"
      },
      "execution_count": null,
      "outputs": []
    },
    {
      "cell_type": "code",
      "source": [
        "!pip install feature-engine"
      ],
      "metadata": {
        "id": "DQQLYs6PC5EU"
      },
      "execution_count": null,
      "outputs": []
    },
    {
      "cell_type": "code",
      "source": [
        "import pandas as pd\n",
        "import numpy as np\n",
        "from category_encoders import TargetEncoder\n",
        "from category_encoders import HashingEncoder\n",
        "import seaborn as sns\n",
        "from sklearn.model_selection import train_test_split\n",
        "from sklearn.metrics import classification_report, roc_auc_score, precision_score, confusion_matrix\n",
        "from sklearn.ensemble import RandomForestClassifier, AdaBoostClassifier, VotingClassifier, BaggingClassifier\n",
        "from sklearn.pipeline import Pipeline\n",
        "from sklearn.preprocessing import StandardScaler, RobustScaler\n",
        "from feature_engine.encoding import CountFrequencyEncoder, MeanEncoder, RareLabelEncoder, OrdinalEncoder\n"
      ],
      "metadata": {
        "id": "3T504ma3sURu"
      },
      "execution_count": 129,
      "outputs": []
    },
    {
      "cell_type": "code",
      "source": [
        "!pip install imbalanced-learn"
      ],
      "metadata": {
        "id": "Mb3ntqVzDbza"
      },
      "execution_count": null,
      "outputs": []
    },
    {
      "cell_type": "code",
      "source": [
        "!pip uninstall scikit-learn --yes\n",
        "!pip uninstall imblearn --yes\n",
        "!pip install scikit-learn==1.2.2\n",
        "!pip install imblearn"
      ],
      "metadata": {
        "id": "_zcDoKIUKGL7"
      },
      "execution_count": null,
      "outputs": []
    },
    {
      "cell_type": "code",
      "source": [
        "from imblearn.over_sampling import RandomOverSampler, SMOTE, BorderlineSMOTE, SVMSMOTE, ADASYN"
      ],
      "metadata": {
        "id": "trO5QoCxOT6m"
      },
      "execution_count": 1,
      "outputs": []
    },
    {
      "cell_type": "code",
      "source": [
        "data = pd.read_csv('fraud_test.csv')\n"
      ],
      "metadata": {
        "id": "tm-kngHCtNTJ"
      },
      "execution_count": 149,
      "outputs": []
    },
    {
      "cell_type": "code",
      "source": [
        "y = data[\"is_fraud\"]\n",
        "X = data.drop(['is_fraud'],axis=1)"
      ],
      "metadata": {
        "id": "MaYHUJ7HDpd2"
      },
      "execution_count": 150,
      "outputs": []
    },
    {
      "cell_type": "code",
      "source": [
        "#Modify columns\n",
        "X_used = X.drop(['Unnamed: 0','street','city','state','cc_num', 'unix_time', 'trans_num'], axis=1)\n",
        "X_used[['date', 'time']] = X_used['trans_date_trans_time'].str.split(' ', expand=True)\n",
        "X_used[['day', 'month', 'year']] = X_used['date'].str.split('/', expand=True)\n",
        "X_used['time'] = X_used['time'].apply(lambda x: x.split(':')[0])\n",
        "X_used['dob'] = X_used['dob'].apply(lambda x: x.split('/')[-1])\n",
        "X_used[\"gender\"] = X_used[\"gender\"].replace({'M': 0, 'F': 1})\n",
        "X_used = X_used.drop(['trans_date_trans_time','date'], axis=1)"
      ],
      "metadata": {
        "colab": {
          "base_uri": "https://localhost:8080/"
        },
        "id": "crhPxJiRt3oH",
        "outputId": "d7c9802b-fcf9-4014-fa84-5bd153479c5d"
      },
      "execution_count": 151,
      "outputs": [
        {
          "output_type": "stream",
          "name": "stderr",
          "text": [
            "<ipython-input-151-ee95265836cb>:7: FutureWarning: Downcasting behavior in `replace` is deprecated and will be removed in a future version. To retain the old behavior, explicitly call `result.infer_objects(copy=False)`. To opt-in to the future behavior, set `pd.set_option('future.no_silent_downcasting', True)`\n",
            "  X_used[\"gender\"] = X_used[\"gender\"].replace({'M': 0, 'F': 1})\n"
          ]
        }
      ]
    },
    {
      "cell_type": "code",
      "source": [
        "print(X_used)"
      ],
      "metadata": {
        "id": "YXgM3XAdGBCa"
      },
      "execution_count": null,
      "outputs": []
    },
    {
      "cell_type": "code",
      "source": [
        "used_data = X_used.copy()\n",
        "used_data['is_fraud'] = y"
      ],
      "metadata": {
        "id": "G9yjBjMPFhxY"
      },
      "execution_count": 152,
      "outputs": []
    },
    {
      "cell_type": "code",
      "source": [
        "print(used_data)"
      ],
      "metadata": {
        "id": "cjY0MFHtF4m3"
      },
      "execution_count": null,
      "outputs": []
    },
    {
      "cell_type": "code",
      "source": [
        "features = used_data.select_dtypes(np.object_).columns\n",
        "cat_features = []\n",
        "for feature in features:\n",
        "    used_data[feature] = used_data[feature].astype('category')\n",
        "    cat_features.append(feature)"
      ],
      "metadata": {
        "id": "-QYPYHy8Hs04"
      },
      "execution_count": 153,
      "outputs": []
    },
    {
      "cell_type": "code",
      "source": [
        "X_train, X_test, y_train, y_test = train_test_split(used_data.drop('is_fraud', axis = 1),\n",
        "                                                    used_data['is_fraud'],\n",
        "                                                    stratify = used_data['is_fraud'],\n",
        "                                                    test_size = 0.25)"
      ],
      "metadata": {
        "id": "F3uC4YoID4FG"
      },
      "execution_count": 154,
      "outputs": []
    },
    {
      "cell_type": "code",
      "source": [
        "train_data = X_train.copy()\n",
        "train_data['is_fraud'] = y_train"
      ],
      "metadata": {
        "id": "WuRYPZd2GlXn"
      },
      "execution_count": 155,
      "outputs": []
    },
    {
      "cell_type": "code",
      "source": [
        "#Show plot\n",
        "import matplotlib.pyplot as plt\n",
        "colors = [\"#0101DF\", \"#DF0101\"]\n",
        "sns.countplot(x='is_fraud', data=train_data, palette=colors)\n",
        "plt.title('Class Distributions \\n (0: No Fraud || 1: Fraud)', fontsize=14)"
      ],
      "metadata": {
        "id": "NSSqYzcdGcJd",
        "colab": {
          "base_uri": "https://localhost:8080/",
          "height": 689
        },
        "outputId": "9f0944bf-7a2c-4816-a6d4-8ee236796464"
      },
      "execution_count": 156,
      "outputs": [
        {
          "output_type": "stream",
          "name": "stderr",
          "text": [
            "<ipython-input-156-69342c6395cb>:4: FutureWarning: \n",
            "\n",
            "Passing `palette` without assigning `hue` is deprecated and will be removed in v0.14.0. Assign the `x` variable to `hue` and set `legend=False` for the same effect.\n",
            "\n",
            "  sns.countplot(x='is_fraud', data=train_data, palette=colors)\n",
            "/usr/local/lib/python3.10/dist-packages/seaborn/_base.py:949: FutureWarning: When grouping with a length-1 list-like, you will need to pass a length-1 tuple to get_group in a future version of pandas. Pass `(name,)` instead of `name` to silence this warning.\n",
            "  data_subset = grouped_data.get_group(pd_key)\n",
            "/usr/local/lib/python3.10/dist-packages/seaborn/_base.py:949: FutureWarning: When grouping with a length-1 list-like, you will need to pass a length-1 tuple to get_group in a future version of pandas. Pass `(name,)` instead of `name` to silence this warning.\n",
            "  data_subset = grouped_data.get_group(pd_key)\n"
          ]
        },
        {
          "output_type": "execute_result",
          "data": {
            "text/plain": [
              "Text(0.5, 1.0, 'Class Distributions \\n (0: No Fraud || 1: Fraud)')"
            ]
          },
          "metadata": {},
          "execution_count": 156
        },
        {
          "output_type": "display_data",
          "data": {
            "text/plain": [
              "<Figure size 640x480 with 1 Axes>"
            ],
            "image/png": "[encoded data removed]"
          },
          "metadata": {}
        }
      ]
    },
    {
      "cell_type": "code",
      "source": [
        "print(train_data.dtypes)"
      ],
      "metadata": {
        "id": "1K7YRZSmIxhL"
      },
      "execution_count": null,
      "outputs": []
    },
    {
      "cell_type": "code",
      "source": [
        "target_encoder = TargetEncoder()\n",
        "train_data[cat_features] = target_encoder.fit_transform(train_data[cat_features], train_data[\"is_fraud\"])"
      ],
      "metadata": {
        "id": "z7oe1A1sG9Rw"
      },
      "execution_count": 157,
      "outputs": []
    },
    {
      "cell_type": "code",
      "source": [
        "train_data.head()"
      ],
      "metadata": {
        "id": "Y2GHujD8HKhO",
        "colab": {
          "base_uri": "https://localhost:8080/",
          "height": 313
        },
        "outputId": "d4691b5e-ff09-461a-f4b3-731129b2b613"
      },
      "execution_count": 158,
      "outputs": [
        {
          "output_type": "execute_result",
          "data": {
            "text/plain": [
              "            merchant  category     amt     first      last  gender    zip  \\\n",
              "145087  6.548461e-14  0.002299    4.78  0.002077  0.004695       0  38922   \n",
              "170193  5.347556e-13  0.002299    9.89  0.006217  0.000000       1  97403   \n",
              "151602  1.510067e-02  0.012605    8.31  0.012146  0.000000       0   8323   \n",
              "360412  1.872075e-02  0.012605  120.85  0.007542  0.017028       1  95528   \n",
              "367238  1.351351e-03  0.004146    8.04  0.007271  0.008130       1  76578   \n",
              "\n",
              "            lat      long  city_pop       job       dob  merch_lat  \\\n",
              "145087  33.9215  -89.6782      3451  0.000000  0.003051  33.481092   \n",
              "170193  44.0385 -123.0614    191096  0.000000  0.003590  43.538268   \n",
              "151602  39.4055  -75.3209       804  0.008000  0.004907  38.975611   \n",
              "360412  40.5070 -123.9743      1139  0.013289  0.003537  40.031560   \n",
              "367238  30.5920  -97.2893      1766  0.008130  0.003111  29.749916   \n",
              "\n",
              "        merch_long      time       day     month     year  is_fraud  \n",
              "145087  -90.185902  0.001042  0.002961  0.004501  0.00386         0  \n",
              "170193 -123.808702  0.000888  0.003714  0.004501  0.00386         0  \n",
              "151602  -75.043001  0.009939  0.003690  0.004501  0.00386         0  \n",
              "360412 -122.985230  0.000815  0.006229  0.004186  0.00386         0  \n",
              "367238  -96.677254  0.000812  0.002961  0.004186  0.00386         0  "
            ],
            "text/html": [
              "\n",
              "  <div id=\"df-b616b0fd-4bed-4d94-9fca-5922cd4fc82f\" class=\"colab-df-container\">\n",
              "    <div>\n",
              "<style scoped>\n",
              "    .dataframe tbody tr th:only-of-type {\n",
              "        vertical-align: middle;\n",
              "    }\n",
              "\n",
              "    .dataframe tbody tr th {\n",
              "        vertical-align: top;\n",
              "    }\n",
              "\n",
              "    .dataframe thead th {\n",
              "        text-align: right;\n",
              "    }\n",
              "</style>\n",
              "<table border=\"1\" class=\"dataframe\">\n",
              "  <thead>\n",
              "    <tr style=\"text-align: right;\">\n",
              "      <th></th>\n",
              "      <th>merchant</th>\n",
              "      <th>category</th>\n",
              "      <th>amt</th>\n",
              "      <th>first</th>\n",
              "      <th>last</th>\n",
              "      <th>gender</th>\n",
              "      <th>zip</th>\n",
              "      <th>lat</th>\n",
              "      <th>long</th>\n",
              "      <th>city_pop</th>\n",
              "      <th>job</th>\n",
              "      <th>dob</th>\n",
              "      <th>merch_lat</th>\n",
              "      <th>merch_long</th>\n",
              "      <th>time</th>\n",
              "      <th>day</th>\n",
              "      <th>month</th>\n",
              "      <th>year</th>\n",
              "      <th>is_fraud</th>\n",
              "    </tr>\n",
              "  </thead>\n",
              "  <tbody>\n",
              "    <tr>\n",
              "      <th>145087</th>\n",
              "      <td>6.548461e-14</td>\n",
              "      <td>0.002299</td>\n",
              "      <td>4.78</td>\n",
              "      <td>0.002077</td>\n",
              "      <td>0.004695</td>\n",
              "      <td>0</td>\n",
              "      <td>38922</td>\n",
              "      <td>33.9215</td>\n",
              "      <td>-89.6782</td>\n",
              "      <td>3451</td>\n",
              "      <td>0.000000</td>\n",
              "      <td>0.003051</td>\n",
              "      <td>33.481092</td>\n",
              "      <td>-90.185902</td>\n",
              "      <td>0.001042</td>\n",
              "      <td>0.002961</td>\n",
              "      <td>0.004501</td>\n",
              "      <td>0.00386</td>\n",
              "      <td>0</td>\n",
              "    </tr>\n",
              "    <tr>\n",
              "      <th>170193</th>\n",
              "      <td>5.347556e-13</td>\n",
              "      <td>0.002299</td>\n",
              "      <td>9.89</td>\n",
              "      <td>0.006217</td>\n",
              "      <td>0.000000</td>\n",
              "      <td>1</td>\n",
              "      <td>97403</td>\n",
              "      <td>44.0385</td>\n",
              "      <td>-123.0614</td>\n",
              "      <td>191096</td>\n",
              "      <td>0.000000</td>\n",
              "      <td>0.003590</td>\n",
              "      <td>43.538268</td>\n",
              "      <td>-123.808702</td>\n",
              "      <td>0.000888</td>\n",
              "      <td>0.003714</td>\n",
              "      <td>0.004501</td>\n",
              "      <td>0.00386</td>\n",
              "      <td>0</td>\n",
              "    </tr>\n",
              "    <tr>\n",
              "      <th>151602</th>\n",
              "      <td>1.510067e-02</td>\n",
              "      <td>0.012605</td>\n",
              "      <td>8.31</td>\n",
              "      <td>0.012146</td>\n",
              "      <td>0.000000</td>\n",
              "      <td>0</td>\n",
              "      <td>8323</td>\n",
              "      <td>39.4055</td>\n",
              "      <td>-75.3209</td>\n",
              "      <td>804</td>\n",
              "      <td>0.008000</td>\n",
              "      <td>0.004907</td>\n",
              "      <td>38.975611</td>\n",
              "      <td>-75.043001</td>\n",
              "      <td>0.009939</td>\n",
              "      <td>0.003690</td>\n",
              "      <td>0.004501</td>\n",
              "      <td>0.00386</td>\n",
              "      <td>0</td>\n",
              "    </tr>\n",
              "    <tr>\n",
              "      <th>360412</th>\n",
              "      <td>1.872075e-02</td>\n",
              "      <td>0.012605</td>\n",
              "      <td>120.85</td>\n",
              "      <td>0.007542</td>\n",
              "      <td>0.017028</td>\n",
              "      <td>1</td>\n",
              "      <td>95528</td>\n",
              "      <td>40.5070</td>\n",
              "      <td>-123.9743</td>\n",
              "      <td>1139</td>\n",
              "      <td>0.013289</td>\n",
              "      <td>0.003537</td>\n",
              "      <td>40.031560</td>\n",
              "      <td>-122.985230</td>\n",
              "      <td>0.000815</td>\n",
              "      <td>0.006229</td>\n",
              "      <td>0.004186</td>\n",
              "      <td>0.00386</td>\n",
              "      <td>0</td>\n",
              "    </tr>\n",
              "    <tr>\n",
              "      <th>367238</th>\n",
              "      <td>1.351351e-03</td>\n",
              "      <td>0.004146</td>\n",
              "      <td>8.04</td>\n",
              "      <td>0.007271</td>\n",
              "      <td>0.008130</td>\n",
              "      <td>1</td>\n",
              "      <td>76578</td>\n",
              "      <td>30.5920</td>\n",
              "      <td>-97.2893</td>\n",
              "      <td>1766</td>\n",
              "      <td>0.008130</td>\n",
              "      <td>0.003111</td>\n",
              "      <td>29.749916</td>\n",
              "      <td>-96.677254</td>\n",
              "      <td>0.000812</td>\n",
              "      <td>0.002961</td>\n",
              "      <td>0.004186</td>\n",
              "      <td>0.00386</td>\n",
              "      <td>0</td>\n",
              "    </tr>\n",
              "  </tbody>\n",
              "</table>\n",
              "</div>\n",
              "    <div class=\"colab-df-buttons\">\n",
              "\n",
              "  <div class=\"colab-df-container\">\n",
              "    <button class=\"colab-df-convert\" onclick=\"convertToInteractive('df-b616b0fd-4bed-4d94-9fca-5922cd4fc82f')\"\n",
              "            title=\"Convert this dataframe to an interactive table.\"\n",
              "            style=\"display:none;\">\n",
              "\n",
              "  <svg xmlns=\"http://www.w3.org/2000/svg\" height=\"24px\" viewBox=\"0 -960 960 960\">\n",
              "    <path d=\"M120-120v-720h720v720H120Zm60-500h600v-160H180v160Zm220 220h160v-160H400v160Zm0 220h160v-160H400v160ZM180-400h160v-160H180v160Zm440 0h160v-160H620v160ZM180-180h160v-160H180v160Zm440 0h160v-160H620v160Z\"/>\n",
              "  </svg>\n",
              "    </button>\n",
              "\n",
              "  <style>\n",
              "    .colab-df-container {\n",
              "      display:flex;\n",
              "      gap: 12px;\n",
              "    }\n",
              "\n",
              "    .colab-df-convert {\n",
              "      background-color: #E8F0FE;\n",
              "      border: none;\n",
              "      border-radius: 50%;\n",
              "      cursor: pointer;\n",
              "      display: none;\n",
              "      fill: #1967D2;\n",
              "      height: 32px;\n",
              "      padding: 0 0 0 0;\n",
              "      width: 32px;\n",
              "    }\n",
              "\n",
              "    .colab-df-convert:hover {\n",
              "      background-color: #E2EBFA;\n",
              "      box-shadow: 0px 1px 2px rgba(60, 64, 67, 0.3), 0px 1px 3px 1px rgba(60, 64, 67, 0.15);\n",
              "      fill: #174EA6;\n",
              "    }\n",
              "\n",
              "    .colab-df-buttons div {\n",
              "      margin-bottom: 4px;\n",
              "    }\n",
              "\n",
              "    [theme=dark] .colab-df-convert {\n",
              "      background-color: #3B4455;\n",
              "      fill: #D2E3FC;\n",
              "    }\n",
              "\n",
              "    [theme=dark] .colab-df-convert:hover {\n",
              "      background-color: #434B5C;\n",
              "      box-shadow: 0px 1px 3px 1px rgba(0, 0, 0, 0.15);\n",
              "      filter: drop-shadow(0px 1px 2px rgba(0, 0, 0, 0.3));\n",
              "      fill: #FFFFFF;\n",
              "    }\n",
              "  </style>\n",
              "\n",
              "    <script>\n",
              "      const buttonEl =\n",
              "        document.querySelector('#df-b616b0fd-4bed-4d94-9fca-5922cd4fc82f button.colab-df-convert');\n",
              "      buttonEl.style.display =\n",
              "        google.colab.kernel.accessAllowed ? 'block' : 'none';\n",
              "\n",
              "      async function convertToInteractive(key) {\n",
              "        const element = document.querySelector('#df-b616b0fd-4bed-4d94-9fca-5922cd4fc82f');\n",
              "        const dataTable =\n",
              "          await google.colab.kernel.invokeFunction('convertToInteractive',\n",
              "                                                    [key], {});\n",
              "        if (!dataTable) return;\n",
              "\n",
              "        const docLinkHtml = 'Like what you see? Visit the ' +\n",
              "          '<a target=\"_blank\" href=https://colab.research.google.com/notebooks/data_table.ipynb>data table notebook</a>'\n",
              "          + ' to learn more about interactive tables.';\n",
              "        element.innerHTML = '';\n",
              "        dataTable['output_type'] = 'display_data';\n",
              "        await google.colab.output.renderOutput(dataTable, element);\n",
              "        const docLink = document.createElement('div');\n",
              "        docLink.innerHTML = docLinkHtml;\n",
              "        element.appendChild(docLink);\n",
              "      }\n",
              "    </script>\n",
              "  </div>\n",
              "\n",
              "\n",
              "<div id=\"df-79120076-7419-4dde-97d2-c0202fb2d484\">\n",
              "  <button class=\"colab-df-quickchart\" onclick=\"quickchart('df-79120076-7419-4dde-97d2-c0202fb2d484')\"\n",
              "            title=\"Suggest charts\"\n",
              "            style=\"display:none;\">\n",
              "\n",
              "<svg xmlns=\"http://www.w3.org/2000/svg\" height=\"24px\"viewBox=\"0 0 24 24\"\n",
              "     width=\"24px\">\n",
              "    <g>\n",
              "        <path d=\"M19 3H5c-1.1 0-2 .9-2 2v14c0 1.1.9 2 2 2h14c1.1 0 2-.9 2-2V5c0-1.1-.9-2-2-2zM9 17H7v-7h2v7zm4 0h-2V7h2v10zm4 0h-2v-4h2v4z\"/>\n",
              "    </g>\n",
              "</svg>\n",
              "  </button>\n",
              "\n",
              "<style>\n",
              "  .colab-df-quickchart {\n",
              "      --bg-color: #E8F0FE;\n",
              "      --fill-color: #1967D2;\n",
              "      --hover-bg-color: #E2EBFA;\n",
              "      --hover-fill-color: #174EA6;\n",
              "      --disabled-fill-color: #AAA;\n",
              "      --disabled-bg-color: #DDD;\n",
              "  }\n",
              "\n",
              "  [theme=dark] .colab-df-quickchart {\n",
              "      --bg-color: #3B4455;\n",
              "      --fill-color: #D2E3FC;\n",
              "      --hover-bg-color: #434B5C;\n",
              "      --hover-fill-color: #FFFFFF;\n",
              "      --disabled-bg-color: #3B4455;\n",
              "      --disabled-fill-color: #666;\n",
              "  }\n",
              "\n",
              "  .colab-df-quickchart {\n",
              "    background-color: var(--bg-color);\n",
              "    border: none;\n",
              "    border-radius: 50%;\n",
              "    cursor: pointer;\n",
              "    display: none;\n",
              "    fill: var(--fill-color);\n",
              "    height: 32px;\n",
              "    padding: 0;\n",
              "    width: 32px;\n",
              "  }\n",
              "\n",
              "  .colab-df-quickchart:hover {\n",
              "    background-color: var(--hover-bg-color);\n",
              "    box-shadow: 0 1px 2px rgba(60, 64, 67, 0.3), 0 1px 3px 1px rgba(60, 64, 67, 0.15);\n",
              "    fill: var(--button-hover-fill-color);\n",
              "  }\n",
              "\n",
              "  .colab-df-quickchart-complete:disabled,\n",
              "  .colab-df-quickchart-complete:disabled:hover {\n",
              "    background-color: var(--disabled-bg-color);\n",
              "    fill: var(--disabled-fill-color);\n",
              "    box-shadow: none;\n",
              "  }\n",
              "\n",
              "  .colab-df-spinner {\n",
              "    border: 2px solid var(--fill-color);\n",
              "    border-color: transparent;\n",
              "    border-bottom-color: var(--fill-color);\n",
              "    animation:\n",
              "      spin 1s steps(1) infinite;\n",
              "  }\n",
              "\n",
              "  @keyframes spin {\n",
              "    0% {\n",
              "      border-color: transparent;\n",
              "      border-bottom-color: var(--fill-color);\n",
              "      border-left-color: var(--fill-color);\n",
              "    }\n",
              "    20% {\n",
              "      border-color: transparent;\n",
              "      border-left-color: var(--fill-color);\n",
              "      border-top-color: var(--fill-color);\n",
              "    }\n",
              "    30% {\n",
              "      border-color: transparent;\n",
              "      border-left-color: var(--fill-color);\n",
              "      border-top-color: var(--fill-color);\n",
              "      border-right-color: var(--fill-color);\n",
              "    }\n",
              "    40% {\n",
              "      border-color: transparent;\n",
              "      border-right-color: var(--fill-color);\n",
              "      border-top-color: var(--fill-color);\n",
              "    }\n",
              "    60% {\n",
              "      border-color: transparent;\n",
              "      border-right-color: var(--fill-color);\n",
              "    }\n",
              "    80% {\n",
              "      border-color: transparent;\n",
              "      border-right-color: var(--fill-color);\n",
              "      border-bottom-color: var(--fill-color);\n",
              "    }\n",
              "    90% {\n",
              "      border-color: transparent;\n",
              "      border-bottom-color: var(--fill-color);\n",
              "    }\n",
              "  }\n",
              "</style>\n",
              "\n",
              "  <script>\n",
              "    async function quickchart(key) {\n",
              "      const quickchartButtonEl =\n",
              "        document.querySelector('#' + key + ' button');\n",
              "      quickchartButtonEl.disabled = true;  // To prevent multiple clicks.\n",
              "      quickchartButtonEl.classList.add('colab-df-spinner');\n",
              "      try {\n",
              "        const charts = await google.colab.kernel.invokeFunction(\n",
              "            'suggestCharts', [key], {});\n",
              "      } catch (error) {\n",
              "        console.error('Error during call to suggestCharts:', error);\n",
              "      }\n",
              "      quickchartButtonEl.classList.remove('colab-df-spinner');\n",
              "      quickchartButtonEl.classList.add('colab-df-quickchart-complete');\n",
              "    }\n",
              "    (() => {\n",
              "      let quickchartButtonEl =\n",
              "        document.querySelector('#df-79120076-7419-4dde-97d2-c0202fb2d484 button');\n",
              "      quickchartButtonEl.style.display =\n",
              "        google.colab.kernel.accessAllowed ? 'block' : 'none';\n",
              "    })();\n",
              "  </script>\n",
              "</div>\n",
              "    </div>\n",
              "  </div>\n"
            ],
            "application/vnd.google.colaboratory.intrinsic+json": {
              "type": "dataframe",
              "variable_name": "train_data"
            }
          },
          "metadata": {},
          "execution_count": 158
        }
      ]
    },
    {
      "cell_type": "code",
      "source": [
        "X_train = train_data.drop('is_fraud',axis=1)\n",
        "y_train = train_data[\"is_fraud\"]"
      ],
      "metadata": {
        "id": "v6HtVlddjETu"
      },
      "execution_count": 159,
      "outputs": []
    },
    {
      "cell_type": "code",
      "source": [
        "X_test[cat_features] = target_encoder.transform(X_test[cat_features])"
      ],
      "metadata": {
        "id": "VvqXAB7qQ_2t"
      },
      "execution_count": 160,
      "outputs": []
    },
    {
      "cell_type": "code",
      "source": [
        "print(X_test)"
      ],
      "metadata": {
        "id": "LBXFKjh7wZuE"
      },
      "execution_count": null,
      "outputs": []
    },
    {
      "cell_type": "code",
      "source": [
        "#Undersampling\n",
        "def undersample(train_data):\n",
        "  train_data = train_data.sample(frac=1)\n",
        "  fraud_data = train_data.loc[train_data['is_fraud'] == 1]\n",
        "  non_fraud_data = train_data.loc[train_data['is_fraud'] == 0][:1500]\n",
        "  normal_distributed_data = pd.concat([fraud_data, non_fraud_data])\n",
        "  new_data = normal_distributed_data.sample(frac=1, random_state=42)\n",
        "  return new_data\n"
      ],
      "metadata": {
        "id": "MzeormnzyjTP"
      },
      "execution_count": 161,
      "outputs": []
    },
    {
      "cell_type": "code",
      "source": [
        "from sklearn.model_selection import train_test_split\n",
        "from sklearn.metrics import roc_auc_score\n",
        "from sklearn.metrics import precision_score, recall_score\n",
        "from sklearn.metrics import roc_auc_score, precision_recall_curve, auc,roc_curve\n",
        "import xgboost as xgb\n",
        "from sklearn.linear_model import LogisticRegression\n",
        "#Run XGBoost\n",
        "balanced_datas = []\n",
        "y_predict_under = []\n",
        "y_predict_proba_under = []\n",
        "score = 0\n",
        "roc_score = 0\n",
        "pr_score = 0\n",
        "for i in range(10):\n",
        "  balanced_datas.append(undersample(train_data))\n",
        "\n",
        "from sklearn.model_selection import GridSearchCV\n",
        "\n",
        "log_reg_model = LogisticRegression()\n",
        "\n",
        "for data in balanced_datas:\n",
        "  X_tr_under = data.drop(columns=['is_fraud'])\n",
        "  y_tr_under = data['is_fraud']\n",
        "  log_reg_model.fit(X_tr_under, y_tr_under)\n",
        "  y_pred_proba = log_reg_model.predict_proba(X_test)\n",
        "  y_pred = log_reg_model.predict(X_test)\n",
        "  roc_auc = roc_auc_score(y_test, y_pred_proba[:,1])\n",
        "  precision, recall, _ = precision_recall_curve(y_test, y_pred_proba[:,1])\n",
        "  pr_auc = auc(recall, precision)\n",
        "  if(score<roc_auc+pr_auc):\n",
        "    score = roc_auc+pr_auc\n",
        "    roc_score = roc_auc\n",
        "    pr_score = pr_auc\n",
        "    y_predict_under = y_pred\n",
        "    y_predict_proba_under = y_pred_proba\n",
        "\n",
        "print(f\"roc_auc: {roc_score} pr_recall: {pr_score}\")\n"
      ],
      "metadata": {
        "id": "da_ArRFBSaFH",
        "colab": {
          "base_uri": "https://localhost:8080/"
        },
        "outputId": "2f93c561-1406-4c6d-cc2c-73e7e9086e4a"
      },
      "execution_count": 162,
      "outputs": [
        {
          "output_type": "stream",
          "name": "stdout",
          "text": [
            "roc_auc: 0.8266802719210284 pr_recall: 0.126014382825384\n"
          ]
        }
      ]
    },
    {
      "cell_type": "code",
      "source": [
        "ovs = RandomOverSampler(sampling_strategy = \"auto\", random_state = 11)\n",
        "x_rovs, y_rovs = ovs.fit_resample(X_train, y_train)\n",
        "\n",
        "log_reg_model.fit(x_rovs, y_rovs)\n",
        "y_pred_proba_ovs = log_reg_model.predict_proba(X_test)\n",
        "y_pred_ovs = log_reg_model.predict(X_test)\n",
        "fpr, tpr, _ = roc_curve(y_test, y_pred_proba_ovs[:,1])\n",
        "roc_auc = auc(fpr, tpr)\n",
        "\n",
        "# Compute Precision-Recall curve and area for the positive class\n",
        "precision, recall, _ = precision_recall_curve(y_test, y_pred_proba_ovs[:,1])\n",
        "pr_auc = auc(recall, precision)\n",
        "print(f\"roc_auc: {roc_auc} pr_recall: {pr_auc}\")"
      ],
      "metadata": {
        "colab": {
          "base_uri": "https://localhost:8080/"
        },
        "id": "J9ntxf66BdkQ",
        "outputId": "59aad685-511e-4737-eff4-22825e4ff764"
      },
      "execution_count": 163,
      "outputs": [
        {
          "output_type": "stream",
          "name": "stdout",
          "text": [
            "roc_auc: 0.8257666328602374 pr_recall: 0.12596987747406035\n"
          ]
        }
      ]
    },
    {
      "cell_type": "code",
      "source": [
        "smovs = SMOTE(sampling_strategy = \"auto\", random_state = 11, k_neighbors = 5, n_jobs = -1)\n",
        "x_smote, y_smote = smovs.fit_resample(X_train, y_train)\n",
        "\n",
        "log_reg_model.fit(x_smote, y_smote)\n",
        "y_pred_proba_smovs = log_reg_model.predict_proba(X_test)\n",
        "y_pred_smovs = log_reg_model.predict(X_test)\n",
        "fpr, tpr, _ = roc_curve(y_test, y_pred_proba_smovs[:,1])\n",
        "roc_auc = auc(fpr, tpr)\n",
        "\n",
        "# Compute Precision-Recall curve and area for the positive class\n",
        "precision, recall, _ = precision_recall_curve(y_test, y_pred_proba_smovs[:,1])\n",
        "pr_auc = auc(recall, precision)\n",
        "print(f\"roc_auc: {roc_auc} pr_recall: {pr_auc}\")"
      ],
      "metadata": {
        "colab": {
          "base_uri": "https://localhost:8080/"
        },
        "id": "SSARfInYBlpV",
        "outputId": "a2dd211f-9133-4f81-b3c5-a442e89ba4ae"
      },
      "execution_count": 164,
      "outputs": [
        {
          "output_type": "stream",
          "name": "stderr",
          "text": [
            "/usr/local/lib/python3.10/dist-packages/imblearn/over_sampling/_smote/base.py:336: FutureWarning: The parameter `n_jobs` has been deprecated in 0.10 and will be removed in 0.12. You can pass an nearest neighbors estimator where `n_jobs` is already set instead.\n",
            "  warnings.warn(\n"
          ]
        },
        {
          "output_type": "stream",
          "name": "stdout",
          "text": [
            "roc_auc: 0.8260106770654151 pr_recall: 0.12595917187604372\n"
          ]
        }
      ]
    },
    {
      "cell_type": "code",
      "source": [
        "border_smovs = BorderlineSMOTE()\n",
        "x_border, y_border = border_smovs.fit_resample(X_train, y_train)\n",
        "\n",
        "log_reg_model.fit(x_border, y_border)\n",
        "y_pred_proba_border = log_reg_model.predict_proba(X_test)\n",
        "y_pred_border = log_reg_model.predict(X_test)\n",
        "fpr, tpr, _ = roc_curve(y_test, y_pred_proba_border[:,1])\n",
        "roc_auc = auc(fpr, tpr)\n",
        "\n",
        "# Compute Precision-Recall curve and area for the positive class\n",
        "precision, recall, _ = precision_recall_curve(y_test, y_pred_proba_border[:,1])\n",
        "pr_auc = auc(recall, precision)\n",
        "print(f\"roc_auc: {roc_auc} pr_recall: {pr_auc}\")"
      ],
      "metadata": {
        "colab": {
          "base_uri": "https://localhost:8080/"
        },
        "id": "Az9JovAGBqo0",
        "outputId": "e0d0bb85-70a4-448a-889a-1f563720d23f"
      },
      "execution_count": 165,
      "outputs": [
        {
          "output_type": "stream",
          "name": "stdout",
          "text": [
            "roc_auc: 0.824390532524596 pr_recall: 0.1262535322976299\n"
          ]
        }
      ]
    },
    {
      "cell_type": "code",
      "source": [
        "b_svm = SVMSMOTE()\n",
        "x_svm, y_svm = b_svm.fit_resample(X_train, y_train)\n",
        "\n",
        "log_reg_model.fit(x_svm, y_svm)\n",
        "y_pred_proba_svm = log_reg_model.predict_proba(X_test)\n",
        "y_pred_svm = log_reg_model.predict(X_test)\n",
        "fpr, tpr, _ = roc_curve(y_test, y_pred_proba_svm[:,1])\n",
        "roc_auc = auc(fpr, tpr)\n",
        "\n",
        "# Compute Precision-Recall curve and area for the positive class\n",
        "precision, recall, _ = precision_recall_curve(y_test, y_pred_proba_svm[:,1])\n",
        "pr_auc = auc(recall, precision)\n",
        "print(f\"roc_auc: {roc_auc} pr_recall: {pr_auc}\")"
      ],
      "metadata": {
        "colab": {
          "base_uri": "https://localhost:8080/"
        },
        "id": "aucLXIquBt3R",
        "outputId": "9dc5c21f-6a92-423a-8c5d-35d1ec10a23a"
      },
      "execution_count": 166,
      "outputs": [
        {
          "output_type": "stream",
          "name": "stdout",
          "text": [
            "roc_auc: 0.8243884699513545 pr_recall: 0.12608252771426232\n"
          ]
        }
      ]
    },
    {
      "cell_type": "code",
      "source": [
        "cm = confusion_matrix(y_test, y_pred_ovs)\n",
        "plt.figure(figsize=(8, 6))\n",
        "sns.heatmap(cm, annot=True, fmt='d', cmap='Blues', cbar=False)\n",
        "plt.xlabel('Predicted labels')\n",
        "plt.ylabel('True labels')\n",
        "plt.title('Confusion Matrix')\n",
        "plt.show()"
      ],
      "metadata": {
        "colab": {
          "base_uri": "https://localhost:8080/",
          "height": 564
        },
        "id": "4oNcW_0mgM41",
        "outputId": "a4870314-4e25-4d8b-ab3b-575ce2bd59bc"
      },
      "execution_count": 167,
      "outputs": [
        {
          "output_type": "display_data",
          "data": {
            "text/plain": [
              "<Figure size 800x600 with 1 Axes>"
            ],
            "image/png": "[encoded data removed]"
          },
          "metadata": {}
        }
      ]
    },
    {
      "cell_type": "code",
      "source": [
        "from sklearn.metrics import roc_curve, precision_recall_curve, auc\n",
        "import matplotlib.pyplot as plt\n",
        "\n",
        "# Compute ROC curve and ROC area for the positive class\n",
        "fpr, tpr, _ = roc_curve(y_test, y_pred_proba_ovs[:,1])\n",
        "roc_auc = auc(fpr, tpr)\n",
        "\n",
        "# Compute Precision-Recall curve and area for the positive class\n",
        "precision, recall, _ = precision_recall_curve(y_test, y_pred_proba_ovs[:,1])\n",
        "pr_auc = auc(recall, precision)\n",
        "\n",
        "# Plot ROC curve\n",
        "plt.figure(figsize=(8, 6))\n",
        "plt.plot(fpr, tpr, color='blue', lw=2, label='ROC curve (area = %0.2f)' % roc_auc)\n",
        "plt.plot([0, 1], [0, 1], color='gray', linestyle='--')\n",
        "plt.xlim([0.0, 1.0])\n",
        "plt.ylim([0.0, 1.05])\n",
        "plt.xlabel('False Positive Rate')\n",
        "plt.ylabel('True Positive Rate')\n",
        "plt.title('Receiver Operating Characteristic (ROC) Curve')\n",
        "plt.legend(loc='lower right')\n",
        "\n",
        "# Plot Precision-Recall curve\n",
        "plt.figure(figsize=(8, 6))\n",
        "plt.plot(recall, precision, color='red', lw=2, label='Precision-Recall curve (area = %0.2f)' % pr_auc)\n",
        "plt.xlim([0.0, 1.0])\n",
        "plt.ylim([0.0, 1.05])\n",
        "plt.xlabel('Recall')\n",
        "plt.ylabel('Precision')\n",
        "plt.title('Precision-Recall Curve')\n",
        "plt.legend(loc='lower left')\n",
        "\n",
        "plt.show()\n"
      ],
      "metadata": {
        "colab": {
          "base_uri": "https://localhost:8080/",
          "height": 1000
        },
        "id": "Vkcyvvm7hO9b",
        "outputId": "873e5459-ba97-4c0e-af6e-cbf7df71812d"
      },
      "execution_count": 168,
      "outputs": [
        {
          "output_type": "display_data",
          "data": {
            "text/plain": [
              "<Figure size 800x600 with 1 Axes>"
            ],
            "image/png": "[encoded data removed]"
          },
          "metadata": {}
        },
        {
          "output_type": "display_data",
          "data": {
            "text/plain": [
              "<Figure size 800x600 with 1 Axes>"
            ],
            "image/png": "[encoded data removed]"
          },
          "metadata": {}
        }
      ]
    },
    {
      "cell_type": "markdown",
      "source": [
        "https://www.kaggle.com/code/eisgandar/oversampling-methods-on-unbalanced-datasets"
      ],
      "metadata": {
        "id": "LBS5N7Z-BafH"
      }
    }
  ]
}