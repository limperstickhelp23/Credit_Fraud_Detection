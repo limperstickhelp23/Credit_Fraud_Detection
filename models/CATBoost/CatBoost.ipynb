{
  "cells": [
    {
      "cell_type": "code",
      "execution_count": null,
      "metadata": {
        "id": "f-e_9heLsAsx"
      },
      "outputs": [],
      "source": [
        "from google.colab import files\n",
        "uploaded = files.upload()"
      ]
    },
    {
      "cell_type": "code",
      "execution_count": null,
      "metadata": {
        "id": "xdl-BCGN6IZ1"
      },
      "outputs": [],
      "source": [
        "!pip install category_encoders"
      ]
    },
    {
      "cell_type": "code",
      "execution_count": null,
      "metadata": {
        "id": "DQQLYs6PC5EU"
      },
      "outputs": [],
      "source": [
        "!pip install feature-engine"
      ]
    },
    {
      "cell_type": "code",
      "execution_count": null,
      "metadata": {
        "id": "3T504ma3sURu"
      },
      "outputs": [],
      "source": [
        "import pandas as pd\n",
        "import numpy as np\n",
        "from category_encoders import TargetEncoder\n",
        "from category_encoders import HashingEncoder\n",
        "import seaborn as sns\n",
        "from sklearn.model_selection import train_test_split\n",
        "from sklearn.metrics import classification_report, roc_auc_score, precision_score, confusion_matrix\n",
        "from sklearn.ensemble import RandomForestClassifier, AdaBoostClassifier, VotingClassifier, BaggingClassifier\n",
        "from sklearn.pipeline import Pipeline\n",
        "from sklearn.preprocessing import StandardScaler, RobustScaler\n",
        "from feature_engine.encoding import CountFrequencyEncoder, MeanEncoder, RareLabelEncoder, OrdinalEncoder\n"
      ]
    },
    {
      "cell_type": "code",
      "execution_count": null,
      "metadata": {
        "id": "Mb3ntqVzDbza"
      },
      "outputs": [],
      "source": [
        "!pip install imbalanced-learn"
      ]
    },
    {
      "cell_type": "code",
      "execution_count": null,
      "metadata": {
        "id": "_zcDoKIUKGL7"
      },
      "outputs": [],
      "source": [
        "!pip uninstall scikit-learn --yes\n",
        "!pip uninstall imblearn --yes\n",
        "!pip install scikit-learn==1.2.2\n",
        "!pip install imblearn"
      ]
    },
    {
      "cell_type": "code",
      "execution_count": null,
      "metadata": {
        "id": "trO5QoCxOT6m"
      },
      "outputs": [],
      "source": [
        "from imblearn.over_sampling import RandomOverSampler, SMOTE, BorderlineSMOTE, SVMSMOTE, ADASYN"
      ]
    },
    {
      "cell_type": "code",
      "execution_count": null,
      "metadata": {
        "id": "tm-kngHCtNTJ"
      },
      "outputs": [],
      "source": [
        "data = pd.read_csv('fraud_test.csv')\n"
      ]
    },
    {
      "cell_type": "code",
      "execution_count": null,
      "metadata": {
        "id": "MaYHUJ7HDpd2"
      },
      "outputs": [],
      "source": [
        "y = data[\"is_fraud\"]\n",
        "X = data.drop(['is_fraud'],axis=1)"
      ]
    },
    {
      "cell_type": "code",
      "execution_count": null,
      "metadata": {
        "colab": {
          "base_uri": "https://localhost:8080/"
        },
        "id": "crhPxJiRt3oH",
        "outputId": "68500227-6977-4a7f-d96b-52d0fb7d2947"
      },
      "outputs": [
        {
          "name": "stderr",
          "output_type": "stream",
          "text": [
            "<ipython-input-172-ee95265836cb>:7: FutureWarning: Downcasting behavior in `replace` is deprecated and will be removed in a future version. To retain the old behavior, explicitly call `result.infer_objects(copy=False)`. To opt-in to the future behavior, set `pd.set_option('future.no_silent_downcasting', True)`\n",
            "  X_used[\"gender\"] = X_used[\"gender\"].replace({'M': 0, 'F': 1})\n"
          ]
        }
      ],
      "source": [
        "#Modify columns\n",
        "X_used = X.drop(['Unnamed: 0','street','city','state','cc_num', 'unix_time', 'trans_num'], axis=1)\n",
        "X_used[['date', 'time']] = X_used['trans_date_trans_time'].str.split(' ', expand=True)\n",
        "X_used[['day', 'month', 'year']] = X_used['date'].str.split('/', expand=True)\n",
        "X_used['time'] = X_used['time'].apply(lambda x: x.split(':')[0])\n",
        "X_used['dob'] = X_used['dob'].apply(lambda x: x.split('/')[-1])\n",
        "X_used[\"gender\"] = X_used[\"gender\"].replace({'M': 0, 'F': 1})\n",
        "X_used = X_used.drop(['trans_date_trans_time','date'], axis=1)"
      ]
    },
    {
      "cell_type": "markdown",
      "metadata": {
        "id": "SN3LGrcwDx_A"
      },
      "source": [
        "Using code from Kaggle to remove little siginificant features, split several features to make it more useful, and encode features into binary value: https://www.kaggle.com/code/ivetrano/credit-card-fraud-prediction-99-7-accuracy"
      ]
    },
    {
      "cell_type": "code",
      "execution_count": null,
      "metadata": {
        "id": "YXgM3XAdGBCa"
      },
      "outputs": [],
      "source": [
        "print(X_used)"
      ]
    },
    {
      "cell_type": "code",
      "execution_count": null,
      "metadata": {
        "id": "G9yjBjMPFhxY"
      },
      "outputs": [],
      "source": [
        "used_data = X_used.copy()\n",
        "used_data['is_fraud'] = y"
      ]
    },
    {
      "cell_type": "code",
      "execution_count": null,
      "metadata": {
        "id": "cjY0MFHtF4m3"
      },
      "outputs": [],
      "source": [
        "print(used_data)"
      ]
    },
    {
      "cell_type": "code",
      "execution_count": null,
      "metadata": {
        "id": "-QYPYHy8Hs04"
      },
      "outputs": [],
      "source": [
        "#Find categorical features for future use\n",
        "features = used_data.select_dtypes(np.object_).columns\n",
        "cat_features = []\n",
        "for feature in features:\n",
        "    used_data[feature] = used_data[feature].astype('category')\n",
        "    cat_features.append(feature)"
      ]
    },
    {
      "cell_type": "code",
      "execution_count": null,
      "metadata": {
        "id": "F3uC4YoID4FG"
      },
      "outputs": [],
      "source": [
        "#split data into train and test and make sure the proportion of fraud and non_fraud data to be the same.\n",
        "X_train, X_test, y_train, y_test = train_test_split(used_data.drop('is_fraud', axis = 1),\n",
        "                                                    used_data['is_fraud'],\n",
        "                                                    stratify = used_data['is_fraud'],\n",
        "                                                    test_size = 0.25)"
      ]
    },
    {
      "cell_type": "code",
      "execution_count": null,
      "metadata": {
        "id": "WuRYPZd2GlXn"
      },
      "outputs": [],
      "source": [
        "train_data = X_train.copy()\n",
        "train_data['is_fraud'] = y_train"
      ]
    },
    {
      "cell_type": "code",
      "execution_count": null,
      "metadata": {
        "colab": {
          "base_uri": "https://localhost:8080/",
          "height": 689
        },
        "id": "NSSqYzcdGcJd",
        "outputId": "113b1cd5-bc80-49e1-8d99-e9aa35184276"
      },
      "outputs": [
        {
          "name": "stderr",
          "output_type": "stream",
          "text": [
            "<ipython-input-177-69342c6395cb>:4: FutureWarning: \n",
            "\n",
            "Passing `palette` without assigning `hue` is deprecated and will be removed in v0.14.0. Assign the `x` variable to `hue` and set `legend=False` for the same effect.\n",
            "\n",
            "  sns.countplot(x='is_fraud', data=train_data, palette=colors)\n",
            "/usr/local/lib/python3.10/dist-packages/seaborn/_base.py:949: FutureWarning: When grouping with a length-1 list-like, you will need to pass a length-1 tuple to get_group in a future version of pandas. Pass `(name,)` instead of `name` to silence this warning.\n",
            "  data_subset = grouped_data.get_group(pd_key)\n",
            "/usr/local/lib/python3.10/dist-packages/seaborn/_base.py:949: FutureWarning: When grouping with a length-1 list-like, you will need to pass a length-1 tuple to get_group in a future version of pandas. Pass `(name,)` instead of `name` to silence this warning.\n",
            "  data_subset = grouped_data.get_group(pd_key)\n"
          ]
        },
        {
          "data": {
            "text/plain": [
              "Text(0.5, 1.0, 'Class Distributions \\n (0: No Fraud || 1: Fraud)')"
            ]
          },
          "execution_count": 177,
          "metadata": {},
          "output_type": "execute_result"
        },
        {
          "data": {
            "image/png": "[encoded data removed]",
            "text/plain": [
              "<Figure size 640x480 with 1 Axes>"
            ]
          },
          "metadata": {},
          "output_type": "display_data"
        }
      ],
      "source": [
        "#Show plot\n",
        "import matplotlib.pyplot as plt\n",
        "colors = [\"#0101DF\", \"#DF0101\"]\n",
        "sns.countplot(x='is_fraud', data=train_data, palette=colors)\n",
        "plt.title('Class Distributions \\n (0: No Fraud || 1: Fraud)', fontsize=14)"
      ]
    },
    {
      "cell_type": "code",
      "execution_count": null,
      "metadata": {
        "id": "1K7YRZSmIxhL"
      },
      "outputs": [],
      "source": [
        "print(train_data.dtypes)"
      ]
    },
    {
      "cell_type": "code",
      "execution_count": null,
      "metadata": {
        "id": "z7oe1A1sG9Rw"
      },
      "outputs": [],
      "source": [
        "#Use target encoder to transform categorical features into numerical features\n",
        "target_encoder = TargetEncoder()\n",
        "train_data[cat_features] = target_encoder.fit_transform(train_data[cat_features], train_data[\"is_fraud\"])"
      ]
    },
    {
      "cell_type": "code",
      "execution_count": null,
      "metadata": {
        "colab": {
          "base_uri": "https://localhost:8080/",
          "height": 313
        },
        "id": "Y2GHujD8HKhO",
        "outputId": "d4691b5e-ff09-461a-f4b3-731129b2b613"
      },
      "outputs": [
        {
          "data": {
            "application/vnd.google.colaboratory.intrinsic+json": {
              "type": "dataframe",
              "variable_name": "train_data"
            },
            "text/html": [
              "\n",
              "  <div id=\"df-b616b0fd-4bed-4d94-9fca-5922cd4fc82f\" class=\"colab-df-container\">\n",
              "    <div>\n",
              "<style scoped>\n",
              "    .dataframe tbody tr th:only-of-type {\n",
              "        vertical-align: middle;\n",
              "    }\n",
              "\n",
              "    .dataframe tbody tr th {\n",
              "        vertical-align: top;\n",
              "    }\n",
              "\n",
              "    .dataframe thead th {\n",
              "        text-align: right;\n",
              "    }\n",
              "</style>\n",
              "<table border=\"1\" class=\"dataframe\">\n",
              "  <thead>\n",
              "    <tr style=\"text-align: right;\">\n",
              "      <th></th>\n",
              "      <th>merchant</th>\n",
              "      <th>category</th>\n",
              "      <th>amt</th>\n",
              "      <th>first</th>\n",
              "      <th>last</th>\n",
              "      <th>gender</th>\n",
              "      <th>zip</th>\n",
              "      <th>lat</th>\n",
              "      <th>long</th>\n",
              "      <th>city_pop</th>\n",
              "      <th>job</th>\n",
              "      <th>dob</th>\n",
              "      <th>merch_lat</th>\n",
              "      <th>merch_long</th>\n",
              "      <th>time</th>\n",
              "      <th>day</th>\n",
              "      <th>month</th>\n",
              "      <th>year</th>\n",
              "      <th>is_fraud</th>\n",
              "    </tr>\n",
              "  </thead>\n",
              "  <tbody>\n",
              "    <tr>\n",
              "      <th>145087</th>\n",
              "      <td>6.548461e-14</td>\n",
              "      <td>0.002299</td>\n",
              "      <td>4.78</td>\n",
              "      <td>0.002077</td>\n",
              "      <td>0.004695</td>\n",
              "      <td>0</td>\n",
              "      <td>38922</td>\n",
              "      <td>33.9215</td>\n",
              "      <td>-89.6782</td>\n",
              "      <td>3451</td>\n",
              "      <td>0.000000</td>\n",
              "      <td>0.003051</td>\n",
              "      <td>33.481092</td>\n",
              "      <td>-90.185902</td>\n",
              "      <td>0.001042</td>\n",
              "      <td>0.002961</td>\n",
              "      <td>0.004501</td>\n",
              "      <td>0.00386</td>\n",
              "      <td>0</td>\n",
              "    </tr>\n",
              "    <tr>\n",
              "      <th>170193</th>\n",
              "      <td>5.347556e-13</td>\n",
              "      <td>0.002299</td>\n",
              "      <td>9.89</td>\n",
              "      <td>0.006217</td>\n",
              "      <td>0.000000</td>\n",
              "      <td>1</td>\n",
              "      <td>97403</td>\n",
              "      <td>44.0385</td>\n",
              "      <td>-123.0614</td>\n",
              "      <td>191096</td>\n",
              "      <td>0.000000</td>\n",
              "      <td>0.003590</td>\n",
              "      <td>43.538268</td>\n",
              "      <td>-123.808702</td>\n",
              "      <td>0.000888</td>\n",
              "      <td>0.003714</td>\n",
              "      <td>0.004501</td>\n",
              "      <td>0.00386</td>\n",
              "      <td>0</td>\n",
              "    </tr>\n",
              "    <tr>\n",
              "      <th>151602</th>\n",
              "      <td>1.510067e-02</td>\n",
              "      <td>0.012605</td>\n",
              "      <td>8.31</td>\n",
              "      <td>0.012146</td>\n",
              "      <td>0.000000</td>\n",
              "      <td>0</td>\n",
              "      <td>8323</td>\n",
              "      <td>39.4055</td>\n",
              "      <td>-75.3209</td>\n",
              "      <td>804</td>\n",
              "      <td>0.008000</td>\n",
              "      <td>0.004907</td>\n",
              "      <td>38.975611</td>\n",
              "      <td>-75.043001</td>\n",
              "      <td>0.009939</td>\n",
              "      <td>0.003690</td>\n",
              "      <td>0.004501</td>\n",
              "      <td>0.00386</td>\n",
              "      <td>0</td>\n",
              "    </tr>\n",
              "    <tr>\n",
              "      <th>360412</th>\n",
              "      <td>1.872075e-02</td>\n",
              "      <td>0.012605</td>\n",
              "      <td>120.85</td>\n",
              "      <td>0.007542</td>\n",
              "      <td>0.017028</td>\n",
              "      <td>1</td>\n",
              "      <td>95528</td>\n",
              "      <td>40.5070</td>\n",
              "      <td>-123.9743</td>\n",
              "      <td>1139</td>\n",
              "      <td>0.013289</td>\n",
              "      <td>0.003537</td>\n",
              "      <td>40.031560</td>\n",
              "      <td>-122.985230</td>\n",
              "      <td>0.000815</td>\n",
              "      <td>0.006229</td>\n",
              "      <td>0.004186</td>\n",
              "      <td>0.00386</td>\n",
              "      <td>0</td>\n",
              "    </tr>\n",
              "    <tr>\n",
              "      <th>367238</th>\n",
              "      <td>1.351351e-03</td>\n",
              "      <td>0.004146</td>\n",
              "      <td>8.04</td>\n",
              "      <td>0.007271</td>\n",
              "      <td>0.008130</td>\n",
              "      <td>1</td>\n",
              "      <td>76578</td>\n",
              "      <td>30.5920</td>\n",
              "      <td>-97.2893</td>\n",
              "      <td>1766</td>\n",
              "      <td>0.008130</td>\n",
              "      <td>0.003111</td>\n",
              "      <td>29.749916</td>\n",
              "      <td>-96.677254</td>\n",
              "      <td>0.000812</td>\n",
              "      <td>0.002961</td>\n",
              "      <td>0.004186</td>\n",
              "      <td>0.00386</td>\n",
              "      <td>0</td>\n",
              "    </tr>\n",
              "  </tbody>\n",
              "</table>\n",
              "</div>\n",
              "    <div class=\"colab-df-buttons\">\n",
              "\n",
              "  <div class=\"colab-df-container\">\n",
              "    <button class=\"colab-df-convert\" onclick=\"convertToInteractive('df-b616b0fd-4bed-4d94-9fca-5922cd4fc82f')\"\n",
              "            title=\"Convert this dataframe to an interactive table.\"\n",
              "            style=\"display:none;\">\n",
              "\n",
              "  <svg xmlns=\"http://www.w3.org/2000/svg\" height=\"24px\" viewBox=\"0 -960 960 960\">\n",
              "    <path d=\"M120-120v-720h720v720H120Zm60-500h600v-160H180v160Zm220 220h160v-160H400v160Zm0 220h160v-160H400v160ZM180-400h160v-160H180v160Zm440 0h160v-160H620v160ZM180-180h160v-160H180v160Zm440 0h160v-160H620v160Z\"/>\n",
              "  </svg>\n",
              "    </button>\n",
              "\n",
              "  <style>\n",
              "    .colab-df-container {\n",
              "      display:flex;\n",
              "      gap: 12px;\n",
              "    }\n",
              "\n",
              "    .colab-df-convert {\n",
              "      background-color: #E8F0FE;\n",
              "      border: none;\n",
              "      border-radius: 50%;\n",
              "      cursor: pointer;\n",
              "      display: none;\n",
              "      fill: #1967D2;\n",
              "      height: 32px;\n",
              "      padding: 0 0 0 0;\n",
              "      width: 32px;\n",
              "    }\n",
              "\n",
              "    .colab-df-convert:hover {\n",
              "      background-color: #E2EBFA;\n",
              "      box-shadow: 0px 1px 2px rgba(60, 64, 67, 0.3), 0px 1px 3px 1px rgba(60, 64, 67, 0.15);\n",
              "      fill: #174EA6;\n",
              "    }\n",
              "\n",
              "    .colab-df-buttons div {\n",
              "      margin-bottom: 4px;\n",
              "    }\n",
              "\n",
              "    [theme=dark] .colab-df-convert {\n",
              "      background-color: #3B4455;\n",
              "      fill: #D2E3FC;\n",
              "    }\n",
              "\n",
              "    [theme=dark] .colab-df-convert:hover {\n",
              "      background-color: #434B5C;\n",
              "      box-shadow: 0px 1px 3px 1px rgba(0, 0, 0, 0.15);\n",
              "      filter: drop-shadow(0px 1px 2px rgba(0, 0, 0, 0.3));\n",
              "      fill: #FFFFFF;\n",
              "    }\n",
              "  </style>\n",
              "\n",
              "    <script>\n",
              "      const buttonEl =\n",
              "        document.querySelector('#df-b616b0fd-4bed-4d94-9fca-5922cd4fc82f button.colab-df-convert');\n",
              "      buttonEl.style.display =\n",
              "        google.colab.kernel.accessAllowed ? 'block' : 'none';\n",
              "\n",
              "      async function convertToInteractive(key) {\n",
              "        const element = document.querySelector('#df-b616b0fd-4bed-4d94-9fca-5922cd4fc82f');\n",
              "        const dataTable =\n",
              "          await google.colab.kernel.invokeFunction('convertToInteractive',\n",
              "                                                    [key], {});\n",
              "        if (!dataTable) return;\n",
              "\n",
              "        const docLinkHtml = 'Like what you see? Visit the ' +\n",
              "          '<a target=\"_blank\" href=https://colab.research.google.com/notebooks/data_table.ipynb>data table notebook</a>'\n",
              "          + ' to learn more about interactive tables.';\n",
              "        element.innerHTML = '';\n",
              "        dataTable['output_type'] = 'display_data';\n",
              "        await google.colab.output.renderOutput(dataTable, element);\n",
              "        const docLink = document.createElement('div');\n",
              "        docLink.innerHTML = docLinkHtml;\n",
              "        element.appendChild(docLink);\n",
              "      }\n",
              "    </script>\n",
              "  </div>\n",
              "\n",
              "\n",
              "<div id=\"df-79120076-7419-4dde-97d2-c0202fb2d484\">\n",
              "  <button class=\"colab-df-quickchart\" onclick=\"quickchart('df-79120076-7419-4dde-97d2-c0202fb2d484')\"\n",
              "            title=\"Suggest charts\"\n",
              "            style=\"display:none;\">\n",
              "\n",
              "<svg xmlns=\"http://www.w3.org/2000/svg\" height=\"24px\"viewBox=\"0 0 24 24\"\n",
              "     width=\"24px\">\n",
              "    <g>\n",
              "        <path d=\"M19 3H5c-1.1 0-2 .9-2 2v14c0 1.1.9 2 2 2h14c1.1 0 2-.9 2-2V5c0-1.1-.9-2-2-2zM9 17H7v-7h2v7zm4 0h-2V7h2v10zm4 0h-2v-4h2v4z\"/>\n",
              "    </g>\n",
              "</svg>\n",
              "  </button>\n",
              "\n",
              "<style>\n",
              "  .colab-df-quickchart {\n",
              "      --bg-color: #E8F0FE;\n",
              "      --fill-color: #1967D2;\n",
              "      --hover-bg-color: #E2EBFA;\n",
              "      --hover-fill-color: #174EA6;\n",
              "      --disabled-fill-color: #AAA;\n",
              "      --disabled-bg-color: #DDD;\n",
              "  }\n",
              "\n",
              "  [theme=dark] .colab-df-quickchart {\n",
              "      --bg-color: #3B4455;\n",
              "      --fill-color: #D2E3FC;\n",
              "      --hover-bg-color: #434B5C;\n",
              "      --hover-fill-color: #FFFFFF;\n",
              "      --disabled-bg-color: #3B4455;\n",
              "      --disabled-fill-color: #666;\n",
              "  }\n",
              "\n",
              "  .colab-df-quickchart {\n",
              "    background-color: var(--bg-color);\n",
              "    border: none;\n",
              "    border-radius: 50%;\n",
              "    cursor: pointer;\n",
              "    display: none;\n",
              "    fill: var(--fill-color);\n",
              "    height: 32px;\n",
              "    padding: 0;\n",
              "    width: 32px;\n",
              "  }\n",
              "\n",
              "  .colab-df-quickchart:hover {\n",
              "    background-color: var(--hover-bg-color);\n",
              "    box-shadow: 0 1px 2px rgba(60, 64, 67, 0.3), 0 1px 3px 1px rgba(60, 64, 67, 0.15);\n",
              "    fill: var(--button-hover-fill-color);\n",
              "  }\n",
              "\n",
              "  .colab-df-quickchart-complete:disabled,\n",
              "  .colab-df-quickchart-complete:disabled:hover {\n",
              "    background-color: var(--disabled-bg-color);\n",
              "    fill: var(--disabled-fill-color);\n",
              "    box-shadow: none;\n",
              "  }\n",
              "\n",
              "  .colab-df-spinner {\n",
              "    border: 2px solid var(--fill-color);\n",
              "    border-color: transparent;\n",
              "    border-bottom-color: var(--fill-color);\n",
              "    animation:\n",
              "      spin 1s steps(1) infinite;\n",
              "  }\n",
              "\n",
              "  @keyframes spin {\n",
              "    0% {\n",
              "      border-color: transparent;\n",
              "      border-bottom-color: var(--fill-color);\n",
              "      border-left-color: var(--fill-color);\n",
              "    }\n",
              "    20% {\n",
              "      border-color: transparent;\n",
              "      border-left-color: var(--fill-color);\n",
              "      border-top-color: var(--fill-color);\n",
              "    }\n",
              "    30% {\n",
              "      border-color: transparent;\n",
              "      border-left-color: var(--fill-color);\n",
              "      border-top-color: var(--fill-color);\n",
              "      border-right-color: var(--fill-color);\n",
              "    }\n",
              "    40% {\n",
              "      border-color: transparent;\n",
              "      border-right-color: var(--fill-color);\n",
              "      border-top-color: var(--fill-color);\n",
              "    }\n",
              "    60% {\n",
              "      border-color: transparent;\n",
              "      border-right-color: var(--fill-color);\n",
              "    }\n",
              "    80% {\n",
              "      border-color: transparent;\n",
              "      border-right-color: var(--fill-color);\n",
              "      border-bottom-color: var(--fill-color);\n",
              "    }\n",
              "    90% {\n",
              "      border-color: transparent;\n",
              "      border-bottom-color: var(--fill-color);\n",
              "    }\n",
              "  }\n",
              "</style>\n",
              "\n",
              "  <script>\n",
              "    async function quickchart(key) {\n",
              "      const quickchartButtonEl =\n",
              "        document.querySelector('#' + key + ' button');\n",
              "      quickchartButtonEl.disabled = true;  // To prevent multiple clicks.\n",
              "      quickchartButtonEl.classList.add('colab-df-spinner');\n",
              "      try {\n",
              "        const charts = await google.colab.kernel.invokeFunction(\n",
              "            'suggestCharts', [key], {});\n",
              "      } catch (error) {\n",
              "        console.error('Error during call to suggestCharts:', error);\n",
              "      }\n",
              "      quickchartButtonEl.classList.remove('colab-df-spinner');\n",
              "      quickchartButtonEl.classList.add('colab-df-quickchart-complete');\n",
              "    }\n",
              "    (() => {\n",
              "      let quickchartButtonEl =\n",
              "        document.querySelector('#df-79120076-7419-4dde-97d2-c0202fb2d484 button');\n",
              "      quickchartButtonEl.style.display =\n",
              "        google.colab.kernel.accessAllowed ? 'block' : 'none';\n",
              "    })();\n",
              "  </script>\n",
              "</div>\n",
              "    </div>\n",
              "  </div>\n"
            ],
            "text/plain": [
              "            merchant  category     amt     first      last  gender    zip  \\\n",
              "145087  6.548461e-14  0.002299    4.78  0.002077  0.004695       0  38922   \n",
              "170193  5.347556e-13  0.002299    9.89  0.006217  0.000000       1  97403   \n",
              "151602  1.510067e-02  0.012605    8.31  0.012146  0.000000       0   8323   \n",
              "360412  1.872075e-02  0.012605  120.85  0.007542  0.017028       1  95528   \n",
              "367238  1.351351e-03  0.004146    8.04  0.007271  0.008130       1  76578   \n",
              "\n",
              "            lat      long  city_pop       job       dob  merch_lat  \\\n",
              "145087  33.9215  -89.6782      3451  0.000000  0.003051  33.481092   \n",
              "170193  44.0385 -123.0614    191096  0.000000  0.003590  43.538268   \n",
              "151602  39.4055  -75.3209       804  0.008000  0.004907  38.975611   \n",
              "360412  40.5070 -123.9743      1139  0.013289  0.003537  40.031560   \n",
              "367238  30.5920  -97.2893      1766  0.008130  0.003111  29.749916   \n",
              "\n",
              "        merch_long      time       day     month     year  is_fraud  \n",
              "145087  -90.185902  0.001042  0.002961  0.004501  0.00386         0  \n",
              "170193 -123.808702  0.000888  0.003714  0.004501  0.00386         0  \n",
              "151602  -75.043001  0.009939  0.003690  0.004501  0.00386         0  \n",
              "360412 -122.985230  0.000815  0.006229  0.004186  0.00386         0  \n",
              "367238  -96.677254  0.000812  0.002961  0.004186  0.00386         0  "
            ]
          },
          "execution_count": 158,
          "metadata": {},
          "output_type": "execute_result"
        }
      ],
      "source": [
        "train_data.head()"
      ]
    },
    {
      "cell_type": "code",
      "execution_count": null,
      "metadata": {
        "id": "v6HtVlddjETu"
      },
      "outputs": [],
      "source": [
        "X_train = train_data.drop('is_fraud',axis=1)\n",
        "y_train = train_data[\"is_fraud\"]"
      ]
    },
    {
      "cell_type": "code",
      "execution_count": null,
      "metadata": {
        "id": "VvqXAB7qQ_2t"
      },
      "outputs": [],
      "source": [
        "X_test[cat_features] = target_encoder.transform(X_test[cat_features])"
      ]
    },
    {
      "cell_type": "code",
      "execution_count": null,
      "metadata": {
        "colab": {
          "base_uri": "https://localhost:8080/"
        },
        "id": "LBXFKjh7wZuE",
        "outputId": "c1d9a2ec-431b-4aa7-fa8b-75015fdb3728"
      },
      "outputs": [
        {
          "name": "stdout",
          "output_type": "stream",
          "text": [
            "        merchant  category     amt         first      last  gender    zip  \\\n",
            "66248   0.022444  0.009672  169.42  7.769145e-03  0.000000       1  98233   \n",
            "450981  0.000000  0.001799   99.82  3.416467e-03  0.000000       1  28659   \n",
            "526428  0.001626  0.001358  104.23  0.000000e+00  0.000562       1  26041   \n",
            "51769   0.002778  0.001370   34.35  3.325272e-03  0.045714       1  39653   \n",
            "459601  0.000000  0.001358    2.40  6.891271e-03  0.000000       0   4047   \n",
            "...          ...       ...     ...           ...       ...     ...    ...   \n",
            "540426  0.001527  0.001359    2.69  0.000000e+00  0.000000       1  13304   \n",
            "192850  0.010782  0.009228  117.75  1.519757e-02  0.005160       1  64470   \n",
            "450162  0.001946  0.002050    2.88  7.286164e-17  0.000000       1  13316   \n",
            "303109  0.001626  0.001358   32.57  0.000000e+00  0.002199       1  92585   \n",
            "170550  0.002601  0.004443   12.68  0.000000e+00  0.000000       1  48438   \n",
            "\n",
            "            lat      long  city_pop       job       dob  merch_lat  \\\n",
            "66248   48.4786 -122.3345     14871  0.000000  0.001365  47.660865   \n",
            "450981  36.2017  -81.1286     21134  0.000000  0.003151  36.276179   \n",
            "526428  39.9148  -80.7310     16183  0.004038  0.005869  40.295757   \n",
            "51769   31.4285  -90.8578      2799  0.009357  0.005730  31.697299   \n",
            "459601  43.7450  -70.9092      1892  0.004010  0.003366  43.176926   \n",
            "...         ...       ...       ...       ...       ...        ...   \n",
            "540426  43.2237  -75.1612      1684  0.002877  0.007485  42.447624   \n",
            "192850  40.1362  -95.2138      1631  0.015198  0.004958  40.704000   \n",
            "450162  43.3392  -75.7543      6460  0.000000  0.010742  42.579385   \n",
            "303109  33.7467 -117.1721     54287  0.000000  0.003215  33.858591   \n",
            "170550  42.9147  -83.4845      6951  0.000000  0.003504  43.282124   \n",
            "\n",
            "        merch_long      time       day     month     year  \n",
            "66248  -122.546172  0.010411  0.003057  0.003576  0.00386  \n",
            "450981  -82.031575  0.000565  0.006177  0.001843  0.00386  \n",
            "526428  -81.311367  0.000568  0.006672  0.001843  0.00386  \n",
            "51769   -90.937745  0.018960  0.006177  0.003576  0.00386  \n",
            "459601  -70.495851  0.001043  0.003282  0.001843  0.00386  \n",
            "...            ...       ...       ...       ...      ...  \n",
            "540426  -75.762592  0.000665  0.002492  0.001843  0.00386  \n",
            "192850  -94.749475  0.008869  0.002492  0.004733  0.00386  \n",
            "450162  -75.334241  0.000893  0.006177  0.001843  0.00386  \n",
            "303109 -117.930511  0.000521  0.003364  0.005584  0.00386  \n",
            "170550  -83.730633  0.001387  0.003239  0.004733  0.00386  \n",
            "\n",
            "[138930 rows x 18 columns]\n"
          ]
        }
      ],
      "source": [
        "print(X_test)"
      ]
    },
    {
      "cell_type": "code",
      "execution_count": null,
      "metadata": {
        "id": "MzeormnzyjTP"
      },
      "outputs": [],
      "source": [
        "#Undersampling by reducing size of non fraud_data to the size of fraud_data\n",
        "def undersample(train_data):\n",
        "  train_data = train_data.sample(frac=1)\n",
        "  fraud_data = train_data.loc[train_data['is_fraud'] == 1]\n",
        "  non_fraud_data = train_data.loc[train_data['is_fraud'] == 0][:1500]\n",
        "  normal_distributed_data = pd.concat([fraud_data, non_fraud_data])\n",
        "  new_data = normal_distributed_data.sample(frac=1, random_state=42)\n",
        "  return new_data\n"
      ]
    },
    {
      "cell_type": "code",
      "execution_count": null,
      "metadata": {
        "colab": {
          "base_uri": "https://localhost:8080/"
        },
        "id": "BwREpgkgD4u5",
        "outputId": "44ba9f89-f1ec-4772-cb22-3acbc52b50f9"
      },
      "outputs": [
        {
          "name": "stdout",
          "output_type": "stream",
          "text": [
            "Collecting catboost\n",
            "  Downloading catboost-1.2.5-cp310-cp310-manylinux2014_x86_64.whl (98.2 MB)\n",
            "\u001b[2K     \u001b[90m━━━━━━━━━━━━━━━━━━━━━━━━━━━━━━━━━━━━━━━━\u001b[0m \u001b[32m98.2/98.2 MB\u001b[0m \u001b[31m6.3 MB/s\u001b[0m eta \u001b[36m0:00:00\u001b[0m\n",
            "\u001b[?25hRequirement already satisfied: graphviz in /usr/local/lib/python3.10/dist-packages (from catboost) (0.20.3)\n",
            "Requirement already satisfied: matplotlib in /usr/local/lib/python3.10/dist-packages (from catboost) (3.7.1)\n",
            "Requirement already satisfied: numpy>=1.16.0 in /usr/local/lib/python3.10/dist-packages (from catboost) (1.25.2)\n",
            "Requirement already satisfied: pandas>=0.24 in /usr/local/lib/python3.10/dist-packages (from catboost) (2.2.2)\n",
            "Requirement already satisfied: scipy in /usr/local/lib/python3.10/dist-packages (from catboost) (1.11.4)\n",
            "Requirement already satisfied: plotly in /usr/local/lib/python3.10/dist-packages (from catboost) (5.15.0)\n",
            "Requirement already satisfied: six in /usr/local/lib/python3.10/dist-packages (from catboost) (1.16.0)\n",
            "Requirement already satisfied: python-dateutil>=2.8.2 in /usr/local/lib/python3.10/dist-packages (from pandas>=0.24->catboost) (2.8.2)\n",
            "Requirement already satisfied: pytz>=2020.1 in /usr/local/lib/python3.10/dist-packages (from pandas>=0.24->catboost) (2023.4)\n",
            "Requirement already satisfied: tzdata>=2022.7 in /usr/local/lib/python3.10/dist-packages (from pandas>=0.24->catboost) (2024.1)\n",
            "Requirement already satisfied: contourpy>=1.0.1 in /usr/local/lib/python3.10/dist-packages (from matplotlib->catboost) (1.2.1)\n",
            "Requirement already satisfied: cycler>=0.10 in /usr/local/lib/python3.10/dist-packages (from matplotlib->catboost) (0.12.1)\n",
            "Requirement already satisfied: fonttools>=4.22.0 in /usr/local/lib/python3.10/dist-packages (from matplotlib->catboost) (4.51.0)\n",
            "Requirement already satisfied: kiwisolver>=1.0.1 in /usr/local/lib/python3.10/dist-packages (from matplotlib->catboost) (1.4.5)\n",
            "Requirement already satisfied: packaging>=20.0 in /usr/local/lib/python3.10/dist-packages (from matplotlib->catboost) (24.0)\n",
            "Requirement already satisfied: pillow>=6.2.0 in /usr/local/lib/python3.10/dist-packages (from matplotlib->catboost) (9.4.0)\n",
            "Requirement already satisfied: pyparsing>=2.3.1 in /usr/local/lib/python3.10/dist-packages (from matplotlib->catboost) (3.1.2)\n",
            "Requirement already satisfied: tenacity>=6.2.0 in /usr/local/lib/python3.10/dist-packages (from plotly->catboost) (8.2.3)\n",
            "Installing collected packages: catboost\n",
            "Successfully installed catboost-1.2.5\n"
          ]
        }
      ],
      "source": [
        "!pip install catboost"
      ]
    },
    {
      "cell_type": "markdown",
      "metadata": {},
      "source": [
        "Below Tried to do catboost with undersampling but did not provide a good score. This pulled from the same kaggle code that is used for our oversampling method because it mentioned an undersamplign method. Undersampling just means its removes data points to make more balanced which leads to info loss\n",
        "\n",
        "https://www.kaggle.com/code/eisgandar/oversampling-methods-on-unbalanced-datasets"
      ]
    },
    {
      "cell_type": "code",
      "execution_count": null,
      "metadata": {},
      "outputs": [],
      "source": []
    },
    {
      "cell_type": "code",
      "execution_count": null,
      "metadata": {
        "colab": {
          "base_uri": "https://localhost:8080/"
        },
        "id": "da_ArRFBSaFH",
        "outputId": "bfa50cb5-93c8-47c1-931f-a9e9dab1c651"
      },
      "outputs": [
        {
          "name": "stdout",
          "output_type": "stream",
          "text": [
            "roc_auc: 0.993493579007286 pr_recall: 0.7276506682613023\n"
          ]
        }
      ],
      "source": [
        "from sklearn.model_selection import train_test_split\n",
        "from sklearn.metrics import roc_auc_score\n",
        "from sklearn.metrics import precision_score, recall_score\n",
        "from sklearn.metrics import roc_auc_score, precision_recall_curve, auc,roc_curve\n",
        "import xgboost as xgb\n",
        "from sklearn.linear_model import LogisticRegression\n",
        "from catboost import CatBoostClassifier\n",
        "#Run CatBoost\n",
        "balanced_datas = []\n",
        "y_predict_under = []\n",
        "y_predict_proba_under = []\n",
        "score = 0\n",
        "roc_score = 0\n",
        "pr_score = 0\n",
        "#Create a set of 10 undersampled datasets\n",
        "for i in range(10):\n",
        "  balanced_datas.append(undersample(train_data))\n",
        "\n",
        "from sklearn.model_selection import GridSearchCV\n",
        "\n",
        "catboost_model = CatBoostClassifier(iterations=1000,\n",
        "                                    learning_rate=0.1,\n",
        "                                    depth=6,\n",
        "                                    loss_function='Logloss',\n",
        "                                    eval_metric='AUC',\n",
        "                                    verbose=False)\n",
        "\n",
        "#Find the best average of prc and roc among all undersampled datasets\n",
        "for data in balanced_datas:\n",
        "  X_tr_under = data.drop(columns=['is_fraud'])\n",
        "  y_tr_under = data['is_fraud']\n",
        "  catboost_model.fit(X_tr_under, y_tr_under)\n",
        "  y_pred_proba = catboost_model.predict_proba(X_test)\n",
        "  y_pred = catboost_model.predict(X_test)\n",
        "  roc_auc = roc_auc_score(y_test, y_pred_proba[:,1])\n",
        "  precision, recall, _ = precision_recall_curve(y_test, y_pred_proba[:,1])\n",
        "  pr_auc = auc(recall, precision)\n",
        "  if(score<roc_auc+pr_auc):\n",
        "    score = roc_auc+pr_auc\n",
        "    roc_score = roc_auc\n",
        "    pr_score = pr_auc\n",
        "    y_predict_under = y_pred\n",
        "    y_predict_proba_under = y_pred_proba\n",
        "\n",
        "print(f\"roc_auc: {roc_score} pr_recall: {pr_score}\")\n"
      ]
    },
    {
      "cell_type": "markdown",
      "metadata": {
        "id": "PgFqcYVTGFz8"
      },
      "source": [
        "From here, I am gonna try to use a variety of oversampling methods using code from https://www.kaggle.com/code/eisgandar/oversampling-methods-on-unbalanced-datasets\n",
        "\n",
        "A lot of these methods had the format for the code. We just had to implementment."
      ]
    },
    {
      "cell_type": "code",
      "execution_count": null,
      "metadata": {
        "colab": {
          "base_uri": "https://localhost:8080/"
        },
        "id": "J9ntxf66BdkQ",
        "outputId": "decad9ab-4fee-45ae-be23-8fdab723a018"
      },
      "outputs": [
        {
          "name": "stdout",
          "output_type": "stream",
          "text": [
            "roc_auc: 0.9966118931693829 pr_recall: 0.8645316442315535\n"
          ]
        }
      ],
      "source": [
        "ovs = RandomOverSampler(sampling_strategy = \"auto\", random_state = 11)\n",
        "x_rovs, y_rovs = ovs.fit_resample(X_train, y_train)\n",
        "\n",
        "catboost_model.fit(x_rovs, y_rovs)\n",
        "y_pred_proba_ovs = catboost_model.predict_proba(X_test)\n",
        "y_pred_ovs = catboost_model.predict(X_test)\n",
        "fpr, tpr, _ = roc_curve(y_test, y_pred_proba_ovs[:,1])\n",
        "roc_auc = auc(fpr, tpr)\n",
        "\n",
        "# Compute Precision-Recall curve and area for the positive class\n",
        "precision, recall, _ = precision_recall_curve(y_test, y_pred_proba_ovs[:,1])\n",
        "pr_auc = auc(recall, precision)\n",
        "print(f\"roc_auc: {roc_auc} pr_recall: {pr_auc}\")"
      ]
    },
    {
      "cell_type": "code",
      "execution_count": null,
      "metadata": {
        "colab": {
          "base_uri": "https://localhost:8080/"
        },
        "id": "SSARfInYBlpV",
        "outputId": "74d3fa66-6ff0-4395-8c5f-3612dcb0060d"
      },
      "outputs": [
        {
          "name": "stderr",
          "output_type": "stream",
          "text": [
            "/usr/local/lib/python3.10/dist-packages/imblearn/over_sampling/_smote/base.py:336: FutureWarning: The parameter `n_jobs` has been deprecated in 0.10 and will be removed in 0.12. You can pass an nearest neighbors estimator where `n_jobs` is already set instead.\n",
            "  warnings.warn(\n"
          ]
        },
        {
          "name": "stdout",
          "output_type": "stream",
          "text": [
            "roc_auc: 0.9942669091641666 pr_recall: 0.8208712450190563\n"
          ]
        }
      ],
      "source": [
        "smovs = SMOTE(sampling_strategy = \"auto\", random_state = 11, k_neighbors = 5, n_jobs = -1)\n",
        "x_smote, y_smote = smovs.fit_resample(X_train, y_train)\n",
        "\n",
        "catboost_model.fit(x_smote, y_smote)\n",
        "y_pred_proba_smovs = catboost_model.predict_proba(X_test)\n",
        "y_pred_smovs = catboost_model.predict(X_test)\n",
        "fpr, tpr, _ = roc_curve(y_test, y_pred_proba_smovs[:,1])\n",
        "roc_auc = auc(fpr, tpr)\n",
        "\n",
        "# Compute Precision-Recall curve and area for the positive class\n",
        "precision, recall, _ = precision_recall_curve(y_test, y_pred_proba_smovs[:,1])\n",
        "pr_auc = auc(recall, precision)\n",
        "print(f\"roc_auc: {roc_auc} pr_recall: {pr_auc}\")"
      ]
    },
    {
      "cell_type": "code",
      "execution_count": null,
      "metadata": {
        "colab": {
          "base_uri": "https://localhost:8080/"
        },
        "id": "Az9JovAGBqo0",
        "outputId": "c58e65eb-7bd5-4c54-f2ce-e60f5a86e2c0"
      },
      "outputs": [
        {
          "name": "stdout",
          "output_type": "stream",
          "text": [
            "roc_auc: 0.9924968168967727 pr_recall: 0.8037646768448392\n"
          ]
        }
      ],
      "source": [
        "border_smovs = BorderlineSMOTE()\n",
        "x_border, y_border = border_smovs.fit_resample(X_train, y_train)\n",
        "\n",
        "catboost_model.fit(x_border, y_border)\n",
        "y_pred_proba_border = catboost_model.predict_proba(X_test)\n",
        "y_pred_border = catboost_model.predict(X_test)\n",
        "fpr, tpr, _ = roc_curve(y_test, y_pred_proba_border[:,1])\n",
        "roc_auc = auc(fpr, tpr)\n",
        "\n",
        "# Compute Precision-Recall curve and area for the positive class\n",
        "precision, recall, _ = precision_recall_curve(y_test, y_pred_proba_border[:,1])\n",
        "pr_auc = auc(recall, precision)\n",
        "print(f\"roc_auc: {roc_auc} pr_recall: {pr_auc}\")"
      ]
    },
    {
      "cell_type": "code",
      "execution_count": null,
      "metadata": {
        "colab": {
          "base_uri": "https://localhost:8080/"
        },
        "id": "aucLXIquBt3R",
        "outputId": "33cc4fae-511f-41b6-8bda-11dd94ba6607"
      },
      "outputs": [
        {
          "name": "stdout",
          "output_type": "stream",
          "text": [
            "roc_auc: 0.9949254092630623 pr_recall: 0.8233445730844456\n"
          ]
        }
      ],
      "source": [
        "b_svm = SVMSMOTE()\n",
        "x_svm, y_svm = b_svm.fit_resample(X_train, y_train)\n",
        "\n",
        "catboost_model.fit(x_svm, y_svm)\n",
        "y_pred_proba_svm = catboost_model.predict_proba(X_test)\n",
        "y_pred_svm = catboost_model.predict(X_test)\n",
        "fpr, tpr, _ = roc_curve(y_test, y_pred_proba_svm[:,1])\n",
        "roc_auc = auc(fpr, tpr)\n",
        "\n",
        "# Compute Precision-Recall curve and area for the positive class\n",
        "precision, recall, _ = precision_recall_curve(y_test, y_pred_proba_svm[:,1])\n",
        "pr_auc = auc(recall, precision)\n",
        "print(f\"roc_auc: {roc_auc} pr_recall: {pr_auc}\")"
      ]
    },
    {
      "cell_type": "code",
      "execution_count": null,
      "metadata": {
        "colab": {
          "base_uri": "https://localhost:8080/",
          "height": 564
        },
        "id": "4oNcW_0mgM41",
        "outputId": "68738194-1a81-4196-aa7c-7bf63564f697"
      },
      "outputs": [
        {
          "data": {
            "image/png": "[encoded data removed]",
            "text/plain": [
              "<Figure size 800x600 with 1 Axes>"
            ]
          },
          "metadata": {},
          "output_type": "display_data"
        }
      ],
      "source": [
        "cm = confusion_matrix(y_test, y_pred_ovs)\n",
        "plt.figure(figsize=(8, 6))\n",
        "sns.heatmap(cm, annot=True, fmt='d', cmap='Blues', cbar=False)\n",
        "plt.xlabel('Predicted labels')\n",
        "plt.ylabel('True labels')\n",
        "plt.title('Confusion Matrix')\n",
        "plt.show()"
      ]
    },
    {
      "cell_type": "code",
      "execution_count": null,
      "metadata": {
        "colab": {
          "base_uri": "https://localhost:8080/",
          "height": 1000
        },
        "id": "Vkcyvvm7hO9b",
        "outputId": "5f1662ce-c0c4-4da7-9816-056fe6111bc3"
      },
      "outputs": [
        {
          "data": {
            "image/png": "[encoded data removed]",
            "text/plain": [
              "<Figure size 800x600 with 1 Axes>"
            ]
          },
          "metadata": {},
          "output_type": "display_data"
        },
        {
          "data": {
            "image/png": "[encoded data removed]",
            "text/plain": [
              "<Figure size 800x600 with 1 Axes>"
            ]
          },
          "metadata": {},
          "output_type": "display_data"
        }
      ],
      "source": [
        "from sklearn.metrics import roc_curve, precision_recall_curve, auc\n",
        "import matplotlib.pyplot as plt\n",
        "\n",
        "# Compute ROC curve and ROC area for the positive class\n",
        "fpr, tpr, _ = roc_curve(y_test, y_pred_proba_ovs[:,1])\n",
        "roc_auc = auc(fpr, tpr)\n",
        "\n",
        "# Compute Precision-Recall curve and area for the positive class\n",
        "precision, recall, _ = precision_recall_curve(y_test, y_pred_proba_ovs[:,1])\n",
        "pr_auc = auc(recall, precision)\n",
        "\n",
        "# Plot ROC curve\n",
        "plt.figure(figsize=(8, 6))\n",
        "plt.plot(fpr, tpr, color='blue', lw=2, label='ROC curve (area = %0.2f)' % roc_auc)\n",
        "plt.plot([0, 1], [0, 1], color='gray', linestyle='--')\n",
        "plt.xlim([0.0, 1.0])\n",
        "plt.ylim([0.0, 1.05])\n",
        "plt.xlabel('False Positive Rate')\n",
        "plt.ylabel('True Positive Rate')\n",
        "plt.title('Receiver Operating Characteristic (ROC) Curve')\n",
        "plt.legend(loc='lower right')\n",
        "\n",
        "# Plot Precision-Recall curve\n",
        "plt.figure(figsize=(8, 6))\n",
        "plt.plot(recall, precision, color='red', lw=2, label='Precision-Recall curve (area = %0.2f)' % pr_auc)\n",
        "plt.xlim([0.0, 1.0])\n",
        "plt.ylim([0.0, 1.05])\n",
        "plt.xlabel('Recall')\n",
        "plt.ylabel('Precision')\n",
        "plt.title('Precision-Recall Curve')\n",
        "plt.legend(loc='lower left')\n",
        "\n",
        "plt.show()\n"
      ]
    }
  ],
  "metadata": {
    "colab": {
      "provenance": []
    },
    "kernelspec": {
      "display_name": "Python 3",
      "name": "python3"
    },
    "language_info": {
      "name": "python"
    }
  },
  "nbformat": 4,
  "nbformat_minor": 0
}
