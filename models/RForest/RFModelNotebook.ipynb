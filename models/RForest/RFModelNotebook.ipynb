{
 "cells": [
  {
   "cell_type": "code",
   "execution_count": 16,
   "metadata": {},
   "outputs": [],
   "source": [
    "import pandas as pd\n",
    "import numpy as np\n",
    "import seaborn as sns\n",
    "from sklearn.model_selection import train_test_split\n",
    "from sklearn.ensemble import RandomForestClassifier\n",
    "from sklearn.metrics import roc_auc_score\n",
    "from sklearn.metrics import accuracy_score\n",
    "\n",
    "from sklearn.metrics import precision_score, recall_score, f1_score, roc_auc_score, accuracy_score, classification_report, precision_recall_fscore_support"
   ]
  },
  {
   "cell_type": "code",
   "execution_count": 4,
   "metadata": {},
   "outputs": [
    {
     "name": "stdout",
     "output_type": "stream",
     "text": [
      "Collecting category_encoders\n",
      "  Downloading category_encoders-2.6.3-py2.py3-none-any.whl.metadata (8.0 kB)\n",
      "Requirement already satisfied: numpy>=1.14.0 in /Users/varunchowdary/opt/anaconda3/lib/python3.9/site-packages (from category_encoders) (1.26.4)\n",
      "Requirement already satisfied: scikit-learn>=0.20.0 in /Users/varunchowdary/opt/anaconda3/lib/python3.9/site-packages (from category_encoders) (1.0.2)\n",
      "Requirement already satisfied: scipy>=1.0.0 in /Users/varunchowdary/opt/anaconda3/lib/python3.9/site-packages (from category_encoders) (1.12.0)\n",
      "Requirement already satisfied: statsmodels>=0.9.0 in /Users/varunchowdary/opt/anaconda3/lib/python3.9/site-packages (from category_encoders) (0.13.2)\n",
      "Requirement already satisfied: pandas>=1.0.5 in /Users/varunchowdary/opt/anaconda3/lib/python3.9/site-packages (from category_encoders) (1.4.2)\n",
      "Requirement already satisfied: patsy>=0.5.1 in /Users/varunchowdary/opt/anaconda3/lib/python3.9/site-packages (from category_encoders) (0.5.2)\n",
      "Requirement already satisfied: python-dateutil>=2.8.1 in /Users/varunchowdary/opt/anaconda3/lib/python3.9/site-packages (from pandas>=1.0.5->category_encoders) (2.8.2)\n",
      "Requirement already satisfied: pytz>=2020.1 in /Users/varunchowdary/opt/anaconda3/lib/python3.9/site-packages (from pandas>=1.0.5->category_encoders) (2021.3)\n",
      "Requirement already satisfied: six in /Users/varunchowdary/opt/anaconda3/lib/python3.9/site-packages (from patsy>=0.5.1->category_encoders) (1.16.0)\n",
      "Requirement already satisfied: joblib>=0.11 in /Users/varunchowdary/opt/anaconda3/lib/python3.9/site-packages (from scikit-learn>=0.20.0->category_encoders) (1.1.0)\n",
      "Requirement already satisfied: threadpoolctl>=2.0.0 in /Users/varunchowdary/opt/anaconda3/lib/python3.9/site-packages (from scikit-learn>=0.20.0->category_encoders) (2.2.0)\n",
      "Requirement already satisfied: packaging>=21.3 in /Users/varunchowdary/opt/anaconda3/lib/python3.9/site-packages (from statsmodels>=0.9.0->category_encoders) (21.3)\n",
      "Requirement already satisfied: pyparsing!=3.0.5,>=2.0.2 in /Users/varunchowdary/opt/anaconda3/lib/python3.9/site-packages (from packaging>=21.3->statsmodels>=0.9.0->category_encoders) (3.0.4)\n",
      "Downloading category_encoders-2.6.3-py2.py3-none-any.whl (81 kB)\n",
      "\u001b[2K   \u001b[90m━━━━━━━━━━━━━━━━━━━━━━━━━━━━━━━━━━━━━━━━\u001b[0m \u001b[32m81.9/81.9 kB\u001b[0m \u001b[31m1.9 MB/s\u001b[0m eta \u001b[36m0:00:00\u001b[0ma \u001b[36m0:00:01\u001b[0m\n",
      "\u001b[?25hInstalling collected packages: category_encoders\n",
      "Successfully installed category_encoders-2.6.3\n"
     ]
    }
   ],
   "source": [
    "!pip install category_encoders\n",
    "import category_encoders as ce"
   ]
  },
  {
   "cell_type": "code",
   "execution_count": 17,
   "metadata": {},
   "outputs": [],
   "source": [
    "data = pd.read_csv(\"/Users/varunchowdary/Desktop/Credit_Card_Detection/Credit_Fraud_Detection/DataSets/fraud test.csv\", sep=\",\")"
   ]
  },
  {
   "cell_type": "code",
   "execution_count": 18,
   "metadata": {},
   "outputs": [],
   "source": [
    "y = data[\"is_fraud\"]\n",
    "x = data.drop(\"is_fraud\", axis=1)\n",
    "X = x\n",
    "X_train_val, X_test, y_train_val, y_test = train_test_split(X, y, test_size=0.25, random_state=42)\n",
    "X_train, X_val, y_train, y_val = train_test_split(X_train_val, y_train_val, test_size=0.25, random_state=42)"
   ]
  },
  {
   "cell_type": "markdown",
   "metadata": {},
   "source": [
    "Using code from Kaggle where the encode some of the variables with one hot encoding, delete unique identifer features, and also reformat some of the time data so that it is split up: https://www.kaggle.com/code/ivetrano/credit-card-fraud-prediction-99-7-accuracy"
   ]
  },
  {
   "cell_type": "code",
   "execution_count": 19,
   "metadata": {},
   "outputs": [],
   "source": [
    "X_train = X_train.drop(['cc_num', 'first', 'last', 'zip', 'trans_num'], axis=1)\n",
    "X_test = X_test.drop(['cc_num', 'first', 'last', 'zip', 'trans_num'], axis=1)\n",
    "X_val = X_val.drop(['cc_num', 'first', 'last', 'zip', 'trans_num'], axis=1)\n",
    "\n",
    "X_train[['date', 'time']] = X_train['trans_date_trans_time'].str.split(' ', expand=True)\n",
    "X_test[['date', 'time']] = X_test['trans_date_trans_time'].str.split(' ', expand=True)\n",
    "X_val[['date', 'time']] = X_val['trans_date_trans_time'].str.split(' ', expand=True)\n",
    "\n",
    "X_train[['day', 'month', 'year']] = X_train['date'].str.split('/', expand=True)\n",
    "X_test[['day', 'month', 'year']] = X_test['date'].str.split('/', expand=True)\n",
    "X_val[['day', 'month', 'year']] = X_val['date'].str.split('/', expand=True)\n",
    "\n",
    "X_train['time'] = X_train['time'].apply(lambda x: x.split(':')[0])\n",
    "X_test['time'] = X_test['time'].apply(lambda x: x.split(':')[0])\n",
    "X_val['time'] = X_val['time'].apply(lambda x: x.split(':')[0])\n",
    "\n",
    "X_train = X_train.drop(['date', 'trans_date_trans_time', 'Unnamed: 0'], axis=1)\n",
    "X_test = X_test.drop(['date', 'trans_date_trans_time', 'Unnamed: 0'], axis=1)\n",
    "X_val = X_val.drop(['date', 'trans_date_trans_time','Unnamed: 0'], axis=1)\n",
    "\n",
    "X_train['dob'] = X_train['dob'].apply(lambda x: x.split('/')[-1])\n",
    "X_test['dob'] = X_test['dob'].apply(lambda x: x.split('/')[-1])\n",
    "X_val['dob'] = X_val['dob'].apply(lambda x: x.split('/')[-1])"
   ]
  },
  {
   "cell_type": "code",
   "execution_count": 20,
   "metadata": {},
   "outputs": [],
   "source": [
    "#Male Female encode to 0 and 1\n",
    "X_train[\"gender\"] = X_train[\"gender\"].replace({'M': 0, 'F': 1})\n",
    "X_test[\"gender\"] = X_test[\"gender\"].replace({'M': 0, 'F': 1})\n",
    "X_val[\"gender\"] = X_val[\"gender\"].replace({'M': 0, 'F': 1})"
   ]
  },
  {
   "cell_type": "code",
   "execution_count": 21,
   "metadata": {},
   "outputs": [],
   "source": [
    "cols_encoder = [\"merchant\", \"category\", \"street\", \"job\", \"city\", \"state\"]\n",
    "\n",
    "encoder = ce.BinaryEncoder(cols=cols_encoder)\n",
    "\n",
    "tra_encoder = encoder.fit_transform(X_train[cols_encoder])\n",
    "\n",
    "valid_encod = encoder.transform(X_val[cols_encoder])\n",
    "test_encode = encoder.transform(X_test[cols_encoder])\n",
    "\n",
    "X_train = X_train.drop(columns=cols_encoder).join(tra_encoder)\n",
    "X_val = X_val.drop(columns=cols_encoder).join(valid_encod)\n",
    "X_test = X_test.drop(columns=cols_encoder).join(test_encode)"
   ]
  },
  {
   "cell_type": "code",
   "execution_count": 22,
   "metadata": {},
   "outputs": [
    {
     "data": {
      "text/plain": [
       "RandomForestClassifier()"
      ]
     },
     "execution_count": 22,
     "metadata": {},
     "output_type": "execute_result"
    }
   ],
   "source": [
    "rf_base_model = RandomForestClassifier()\n",
    "rf_base_model.fit(X_train,y_train)"
   ]
  },
  {
   "cell_type": "code",
   "execution_count": 23,
   "metadata": {},
   "outputs": [],
   "source": [
    "pred = rf_base_model.predict(X_test)"
   ]
  },
  {
   "cell_type": "code",
   "execution_count": 24,
   "metadata": {},
   "outputs": [
    {
     "data": {
      "text/plain": [
       "(array([0.99803134, 0.99610895]),\n",
       " array([0.99999277, 0.48393195]),\n",
       " array([0.99901109, 0.65139949]),\n",
       " array([138401,    529]))"
      ]
     },
     "execution_count": 24,
     "metadata": {},
     "output_type": "execute_result"
    }
   ],
   "source": [
    "precision_recall_fscore_support(y_test,pred)"
   ]
  },
  {
   "cell_type": "code",
   "execution_count": 26,
   "metadata": {},
   "outputs": [
    {
     "data": {
      "text/plain": [
       "<function matplotlib.pyplot.show(close=None, block=None)>"
      ]
     },
     "execution_count": 26,
     "metadata": {},
     "output_type": "execute_result"
    },
    {
     "data": {
      "image/png": "[encoded data removed]",
      "text/plain": [
       "<Figure size 432x288 with 2 Axes>"
      ]
     },
     "metadata": {
      "needs_background": "light"
     },
     "output_type": "display_data"
    }
   ],
   "source": [
    "from sklearn.metrics import confusion_matrix\n",
    "import matplotlib.pyplot as plt\n",
    "confusion_matrix(y_test,pred)\n",
    "\n",
    "from sklearn.metrics import ConfusionMatrixDisplay\n",
    "ConfusionMatrixDisplay.from_predictions(y_test,pred)\n",
    "plt.show"
   ]
  },
  {
   "cell_type": "code",
   "execution_count": null,
   "metadata": {},
   "outputs": [],
   "source": []
  }
 ],
 "metadata": {
  "kernelspec": {
   "display_name": "base",
   "language": "python",
   "name": "python3"
  },
  "language_info": {
   "codemirror_mode": {
    "name": "ipython",
    "version": 3
   },
   "file_extension": ".py",
   "mimetype": "text/x-python",
   "name": "python",
   "nbconvert_exporter": "python",
   "pygments_lexer": "ipython3",
   "version": "3.9.12"
  }
 },
 "nbformat": 4,
 "nbformat_minor": 2
}
